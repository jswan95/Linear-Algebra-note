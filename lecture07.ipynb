{
 "cells": [
  {
   "cell_type": "markdown",
   "metadata": {},
   "source": [
    "# Lecture 7: Solving Ax = 0: Pivot Variables, Special Solutions"
   ]
  },
  {
   "cell_type": "markdown",
   "metadata": {},
   "source": [
    "Reference    \n",
    "Lecture video: https://www.youtube.com/watch?v=VqP2tREMvt0&list=PLE7DDD91010BC51F8&index=8      \n",
    "Chinese note: https://nbviewer.jupyter.org/github/zlotus/notes-linear-algebra/blob/master/chapter07.ipynb    "
   ]
  },
  {
   "cell_type": "markdown",
   "metadata": {},
   "source": [
    "Example1:  $A=\\left[\\begin{matrix} 1 & 2&2&2 \\cr 2 & 4&6&8 \\cr 3 & 6&8&10 \\end{matrix}\\right]$, find the special solution of $Ax=0$. \n",
    "\n",
    "First, we find the pivot variable:\n",
    "\n",
    "$$A=\\left[\\begin{matrix} 1 & 2&2&2 \\cr 2 & 4&6&8 \\cr 3 & 6&8&10 \\end{matrix}\\right] \\xrightarrow{elimination}\\left[\\begin{matrix} \\underline 1 & 2&2&2 \\cr 0 & 0&\\underline 2&4 \\cr 0 & 0&0&0 \\end{matrix}\\right] = U$$\n",
    "\n",
    "We can identify the number of pivot (underlined) is 2, the **rank** of matrix $A$ is 2, $r=2$\n",
    "\n",
    "The colomn containing pivot is pivot column, other columns are free columns. \n",
    "\n",
    "The variables that correspond to the pivot columns are called pivot variables (e.g., $x_1, x_3$). The remaining variables are called free variables (e.g., $x_2, x_4$). We have: `# of free variables` = $n - r$, where $n$ is the number of $A$'s column, $r$ is the rank of $A$. \n",
    "\n",
    "To get the special solution, usually we assign values to free variables and calculate values of pivot variables. For example, we let $x_2=1, x_4=0$, then we can get special solution $\\left[\\begin{matrix} -2 \\cr 1 \\cr 0 \\cr 0 \\end{matrix} \\right]$; then we let $x_2=0, x_4=1$, then we get special solution  $\\left[\\begin{matrix} 2 \\cr 0 \\cr -2 \\cr 1 \\end{matrix} \\right]$. \n",
    "\n",
    "The null space of $A$, which is the set containing all the solutions of $Ax=0$, is the the linear combination of the two special solutions $x = c_1 \\left[\\begin{matrix} -2 \\cr 1 \\cr 0 \\cr 0 \\end{matrix} \\right] + c_2 \\left[\\begin{matrix} 2 \\cr 0 \\cr -2 \\cr 1 \\end{matrix} \\right]$, where $c_1$ and $c_2$ are any constants. \n",
    "\n",
    "The matrix $A$ can be further simplified into **reduced row elchelon form**: \n",
    "\n",
    "$$U=\\left[\\begin{matrix} \\underline 1 & 2&2&2 \\cr 0 & 0&\\underline 2&4 \\cr 0 & 0&0&0 \\end{matrix}\\right] \\xrightarrow{reduction} \\left[\\begin{matrix} \\underline 1 & 2&0&-2 \\cr 0 & 0&\\underline 1&2 \\cr 0 & 0&0&0 \\end{matrix}\\right]=R $$\n",
    "\n",
    "By putting the pivot column together (column change), we get:\n",
    "\n",
    "$$R= \\left[\\begin{matrix} \\underline 1 & 2&0&-2 \\cr 0 & 0&\\underline 1&2 \\cr 0 & 0&0&0 \\end{matrix}\\right] \\xrightarrow{column change} \\left[\\begin{array}{cc|cc} 1 & 0 & 2& -2 \\cr 0 & 1& 0 &2 \\cr \\hline 0 & 0 & 0 &0\\end{array}\\right] = \\left[\\begin{matrix} I & F \\cr 0 & 0\\end{matrix}\\right]$$, where $I$ is identity matrix, $F$ is the free part. \n",
    "\n",
    "We want to find the solution of $Rx=0$, it is the same as finding the nullspace matrix $N$ such that $RN=\\left[\\begin{matrix} I & F \\cr 0 & 0\\end{matrix}\\right]N=0$. Note here $N$ is the nullspace matrix composed by special solutions as columns. \n",
    "\n",
    "We can easily find $N = \\left[\\begin{matrix} -F \\cr I \\end{matrix}\\right]$  (It will be easy to understand if use block matrix and column combination idea)\n",
    "\n",
    "Here is another way to understand:   \n",
    "$$Rx = \\left[\\begin{matrix} I & F \\cr 0 & 0\\end{matrix}\\right] \\left[\\begin{matrix}  x_{pivot} \\cr x_{free}\\end{matrix}\\right] = 0$$\n",
    "$$\\left[\\begin{matrix} I & F \\end{matrix}\\right] \\left[\\begin{matrix} x_{pivot} \\cr x_{free}\\end{matrix}\\right] = 0$$\n",
    "$$x_{pivot} = -Fx_{free}$$\n",
    "If $x_{free}$ is set as identity matrix, $x_{pivot}$ will be $-F$, which again confirms  $N = \\left[\\begin{matrix} -F \\cr I \\end{matrix}\\right]$"
   ]
  },
  {
   "cell_type": "markdown",
   "metadata": {},
   "source": [
    "Example2: $A=\\left[\\begin{matrix} 1 & 2&3 \\cr 2 & 4&6 \\cr 2 & 6&8 \\cr 2 & 8 &10 \\end{matrix}\\right] \\xrightarrow{elimination}\\left[\\begin{matrix} 1 & 2&3 \\cr 0 & 2&2 \\cr 0& 0&0 \\cr 0 & 0 &0 \\end{matrix}\\right] \\xrightarrow{reduction} \\left[\\begin{matrix} 1 & 0&1 \\cr 0 & 1&1 \\cr 0& 0&0 \\cr 0 & 0 &0 \\end{matrix}\\right] = R$\n",
    "\n",
    "It has 2 pivot columns, 1 free column. The rank of $A$ still 2. \n",
    "\n",
    "Let $x_3 = 1$, we can calculate the special solution: $x = \\left[\\begin{matrix} -1 \\cr -1 \\cr -1\\end{matrix}\\right]$"
   ]
  },
  {
   "cell_type": "code",
   "execution_count": null,
   "metadata": {},
   "outputs": [],
   "source": []
  }
 ],
 "metadata": {
  "kernelspec": {
   "display_name": "Python 3",
   "language": "python",
   "name": "python3"
  },
  "language_info": {
   "codemirror_mode": {
    "name": "ipython",
    "version": 3
   },
   "file_extension": ".py",
   "mimetype": "text/x-python",
   "name": "python",
   "nbconvert_exporter": "python",
   "pygments_lexer": "ipython3",
   "version": "3.6.10"
  }
 },
 "nbformat": 4,
 "nbformat_minor": 4
}
