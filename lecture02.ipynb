{
 "cells": [
  {
   "cell_type": "markdown",
   "metadata": {},
   "source": [
    "# Lecture 2: Elimination with Matrices"
   ]
  },
  {
   "cell_type": "markdown",
   "metadata": {},
   "source": [
    "Reference  \n",
    "Lecture video: https://www.youtube.com/watch?v=QVKj3LADCnA&list=PLE7DDD91010BC51F8&index=3  \n",
    "Chinese note: https://nbviewer.jupyter.org/github/zlotus/notes-linear-algebra/blob/master/chapter02.ipynb"
   ]
  },
  {
   "cell_type": "markdown",
   "metadata": {},
   "source": [
    "## Gaussian Elimination (Row reduction) "
   ]
  },
  {
   "cell_type": "markdown",
   "metadata": {},
   "source": [
    "Suppose we have linear equations:$$\\begin{cases}x&+2y& +z&=2\\\\ 3x& +8y& +z&=12 \\\\ 4y& + z& = 2\\end{cases}$$\n",
    "\n",
    "The corresponding matrix form $Ax=b$ is:\n",
    "\n",
    "$$\\left[\\begin{matrix}1 & 2 & 1 \\cr 3 & 8 & 1 \\cr 0 &4 &1\\end{matrix}\\right] \\left[\\begin{matrix} x \\cr y \\cr z\\end{matrix}\\right] = \\left[\\begin{matrix} 2 \\cr 12 \\cr 2 \\end{matrix}\\right]$$\n",
    "\n",
    "Here is the idea of elimination:  \n",
    "* Firstly, we want to eliminate $x$ in the second equation by manipulating $A = \\left[\\begin{matrix} \\underline 1 & 2 & 1 \\cr 3 & 8 & 1 \\cr 0 &4 &1\\end{matrix}\\right] \\xrightarrow{row_2-3row_1} \\left[\\begin{matrix} \\underline 1 & 2 & 1 \\cr 0 & 2 & -2 \\cr 0 &4 &1\\end{matrix}\\right]$  . The underlined 1 is the pivot of the first row. \n",
    "* Secondly, we want to eliminate y in the third equation by manipulating $\\left[\\begin{matrix} \\underline 1 & 2 & 1 \\cr 0 & \\underline 2 & -2 \\cr 0 &4 &1\\end{matrix}\\right]$: $\\left[\\begin{matrix} \\underline 1 & 2 & 1 \\cr 0 & \\underline 2 & -2 \\cr 0 &4 &1\\end{matrix}\\right] \\xrightarrow{row_3-2row_2} \\left[\\begin{matrix} \\underline 1 & 2 & 1 \\cr 0 & \\underline 2 & -2 \\cr 0 &0 &5\\end{matrix}\\right] $. The underlined 2 is the pivot of the second row  \n",
    "\n",
    "* After two steps, the third row has only one nonzero element, it becomes the pivot of the third row. The elimination completed\n",
    "\n",
    "* Next we do **back substitution**. By putting $b$ on the right of $A$, we get **augmented matrix**: $$\\left[\\begin{array}{c|c} A&b\\end{array}\\right] = \\left[\\begin{array}{ccc|c} 1 & 2&1&2 \\cr 3& 8& 1&12 \\cr 0& 4& 1&2\\end{array}\\right] \\rightarrow \\left[\\begin{array}{ccc|c} 1 & 2&1&2 \\cr 0& 2& -2&6 \\cr 0& 4& 1&2\\end{array}\\right]\\rightarrow \\left[\\begin{array}{ccc|c} 1 & 2&1&2 \\cr 0& 2& -2&6 \\cr 0& 0& 5&-10\\end{array}\\right]$$\n",
    "\n",
    "\n",
    "Now the equations become: $$\\begin{cases}x&+2y& +z&=2\\\\ 2y& -2z&=6 \\\\  5z& = -10\\end{cases}$$\n",
    "Obviously, $z=-2$, and then substitutes $z$ in the second equation we can get $y=1$, finally we substitue $z$ and $y$ into the first equation and get $x=2$.  "
   ]
  },
  {
   "cell_type": "markdown",
   "metadata": {},
   "source": [
    "## Elimination with Elementary matrices"
   ]
  },
  {
   "cell_type": "markdown",
   "metadata": {},
   "source": [
    "Last lecture, we learned the multiplication of matrix and vector: calculate the linear combination of the column vector of the matrix. For example, $\\left[\\begin{matrix}v_1 & v_2 & v_3 \\end{matrix}\\right] \\left[\\begin{matrix} 3 \\cr 4 \\cr 5\\end{matrix}\\right] = 3v_1 + 4v_2 + 5v_3$. \n",
    "\n",
    "Now we try to use elimination matrix to explain row operation in the last part. If a row vector multiply a matrix, then the result is the linear combination of the matrix's row vectors. For example: $\\left[\\begin{matrix}1 & 2 & 7 \\end{matrix}\\right] \\left[\\begin{matrix} row_1 \\cr row_2 \\cr row_3\\end{matrix}\\right] = 1row_1 + 2row_2 + 7row_3$. The coefficient of the linear combination is the element of the row vector. "
   ]
  },
  {
   "cell_type": "markdown",
   "metadata": {},
   "source": [
    "Then we can rewrite the row operation in the last part into matrix form. \n",
    "* The first operation is changing $row_2$ into $row_2 - 3row_1$, the first row and third row do now change. Thus the matrix form of the operation is: $A = \\left[\\begin{matrix} 1 & 0 & 0 \\cr -3 & 1 & 0 \\cr 0 &0 &1\\end{matrix}\\right]\\left[\\begin{matrix} 1 & 2 & 1 \\cr 3 & 8 & 1 \\cr 0 &4 &1\\end{matrix}\\right] = \\left[\\begin{matrix} 1 & 2 & 1 \\cr 0 & 2 & -2 \\cr 0 &4 &1\\end{matrix}\\right]$. We denote this elimination matrix as $E_{21}$ (changing the second row's first element into 0), that is $E_{21}=\\left[\\begin{matrix}  1 & 0 & 0 \\cr -3 & 1 & 0 \\cr 0 &0 &1\\end{matrix}\\right]$It should be noted that if all the three rows does not change, then the elimination matrix will be identity matrix $I = \\left[\\begin{matrix} 1 & 0 & 0 \\cr 0 & 1 & 0 \\cr 0 &0 &1\\end{matrix}\\right]$ \n",
    "* The second operation is changing $row_3$ into $row_3-row_2$. Then the corresponding elimination matrix for this operation $E_{32} = \\left[\\begin{matrix} 1 & 0 & 0 \\cr 0 & 1 & 0 \\cr 0 &-2 &1\\end{matrix}\\right]$. And we can see that $E_{32}\\left[\\begin{matrix} 1 & 2 & 1 \\cr 0 & 2 & -2 \\cr 0 &4 &1\\end{matrix}\\right]=\\left[\\begin{matrix} 1 & 0 & 0 \\cr 0 & 1 & 0 \\cr 0 &-2 &1\\end{matrix}\\right]\\left[\\begin{matrix} 1 & 2 & 1 \\cr 0 & 2 & -2 \\cr 0 &4 &1\\end{matrix}\\right]  =\\left[\\begin{matrix} 1 & 2 & 1 \\cr 0 & 2 & -2 \\cr 0 &0 &5\\end{matrix}\\right]$. \n",
    "* We completes the elimination operation by multiplying two **elementary matrix**. We can also combine then together by rewriting as $E_{32}(E_{21}A)=U$. This shows that if we want to get $U$ directly from $A$, we can calculate $(E_{32}E_{21})A$ because matrix multiplication satisfies **associative law**:$A(BC)=(AB)C$. Be noted that usually $AB \\neq BA$, in other words, **commutative law** does not hold for matrix multiplication. "
   ]
  },
  {
   "cell_type": "markdown",
   "metadata": {},
   "source": [
    "Now we introduce **permutation matrix**: used for permutating rows of matrix. For example, $\\left[\\begin{matrix} 0 & 1 \\cr 1 & 0 \\end{matrix}\\right]\\left[\\begin{matrix} a & b \\cr c & d \\end{matrix}\\right] = \\left[\\begin{matrix} c & d \\cr a & b \\end{matrix}\\right]$. This permutation matrix switches the first row and second row of original matrix. Similarly, if we want to change two columns, we can calculate: $\\left[\\begin{matrix} a & b \\cr c & d \\end{matrix}\\right]\\left[\\begin{matrix} 0 & 1 \\cr 1 & 0 \\end{matrix}\\right] = \\left[\\begin{matrix} b & a \\cr d & c \\end{matrix}\\right]$. We can see that putting the elementary matrix on the left(right) side is doing row(column) operation. "
   ]
  },
  {
   "cell_type": "markdown",
   "metadata": {},
   "source": [
    "## Inverse"
   ]
  },
  {
   "cell_type": "markdown",
   "metadata": {},
   "source": [
    "We have seen how to get $U$ from $A$. Now we talk about how to get $A$ from $U$. That is the inverse of the elimination. \n",
    "\n",
    "We take $E_{21}$ as an example. If we want to cancel the elimination, what shall we do? That is to ask what matrix should we multiply: $\\Bigg[\\quad?\\quad \\Bigg] \\left[\\begin{matrix}  1 & 0 & 0 \\cr -3 & 1 & 0 \\cr 0 &0 &1\\end{matrix}\\right] = \\left[\\begin{matrix}  1 & 0 & 0 \\cr 0& 1 & 0 \\cr 0 &0 &1\\end{matrix}\\right]$. Since the function of $E_{21}$ is subtracting tree times of $row_1$ from $row_2$. Then the inverse operation will be adding three times of $row_1$ to $row_2$. Thus the matrix we want to find is: $\\Bigg[\\quad?\\quad \\Bigg]=  \\left[\\begin{matrix}  1 & 0 & 0 \\cr 3 & 1 & 0 \\cr 0 &0 &1\\end{matrix}\\right]$. We call the matrix  $\\left[\\begin{matrix}  1 & 0 & 0 \\cr 3 & 1 & 0 \\cr 0 &0 &1\\end{matrix}\\right]$ is the inverse matrix of $E_{21}= \\left[\\begin{matrix}  1 & 0 & 0 \\cr -3 & 1 & 0 \\cr 0 &0 &1\\end{matrix}\\right]$. \n",
    "\n",
    "We denote the inverse of matrix $E$ as $E^{-1}$, thus $E^{-1}E=I$"
   ]
  }
 ],
 "metadata": {
  "kernelspec": {
   "display_name": "Python 3",
   "language": "python",
   "name": "python3"
  },
  "language_info": {
   "codemirror_mode": {
    "name": "ipython",
    "version": 3
   },
   "file_extension": ".py",
   "mimetype": "text/x-python",
   "name": "python",
   "nbconvert_exporter": "python",
   "pygments_lexer": "ipython3",
   "version": "3.6.10"
  }
 },
 "nbformat": 4,
 "nbformat_minor": 4
}
