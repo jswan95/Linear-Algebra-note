{
 "cells": [
  {
   "cell_type": "markdown",
   "metadata": {},
   "source": [
    "# Lecture 4: Factorization into A = LU"
   ]
  },
  {
   "cell_type": "markdown",
   "metadata": {},
   "source": [
    "Reference  \n",
    "Lecture video:https://www.youtube.com/watch?v=MsIvs_6vC38&list=PLE7DDD91010BC51F8&index=5  \n",
    "Chinese note: https://nbviewer.jupyter.org/github/zlotus/notes-linear-algebra/blob/master/chapter04.ipynb  "
   ]
  },
  {
   "cell_type": "markdown",
   "metadata": {},
   "source": [
    "Note: $A$ and $B$ are square matrix :)  \n",
    "\n",
    "Inverse of $AB$:\n",
    "\n",
    "$$A\\cdot A^{-1} = I = A^{-1}\\cdot A$$\n",
    "$$ (AB)\\cdot(B^{-1}A^{-1}) =A(B\\cdot B^{-1}) A^{-1}= I$$\n",
    "\n",
    "Therefore, the inverse of $AB$ is $B^{-1}A^{-1}$, $(AB)^{-1} = B^{-1}A^{-1}$\n",
    "\n",
    "Inverse of $A^T$:\n",
    "$$(A\\cdot A^{-1})^T = I^T$$\n",
    " $$(A^{-1})^T\\cdot A^T = I$$\n",
    " \n",
    " Therefore, the inverse of $A^T$ is $(A^{-1})^T$, $(A^T)^{-1} = (A^{-1})^T$"
   ]
  },
  {
   "cell_type": "markdown",
   "metadata": {},
   "source": [
    "## $EA = U$ v.s. $A = LU$ "
   ]
  },
  {
   "cell_type": "markdown",
   "metadata": {},
   "source": [
    "Here $L$ is **lower triangular matrix**, $U$ is **upper triangular matrix**\n",
    "\n",
    "$EA=U$: this formula means that by multiplying elimination matrix $E$, matrix $A$ can be changed into an upper triangular matrix $U$. \n",
    "\n",
    "Suppose for a 3 dimensional matrix $A$, we change $A$ into $U$ by multiplying $E_{32}E_{31}E_{21}$: $$E_{32}E_{31}E_{21}A=U$$ \n",
    "$E_{32}= \\left[\\begin{matrix} 1 & 0 &0\\cr 0 & 1&0\\cr 0&-5&1\\end{matrix}\\right], E_{31}=I, E_{21} = \\left[\\begin{matrix} 1 & 0 &0\\cr -2 & 1&0\\cr 0&0&1\\end{matrix}\\right] $\n",
    "\n",
    "Then $EA = E_{32}E_{31}E_{21}A = \\left[\\begin{matrix} 1 & 0 &0\\cr -2 & 1&0\\cr 10&-5&1\\end{matrix}\\right]A$. \n",
    "\n",
    "The professor said that it was not so nice because $10$ was introduced. Function of $E_{32}$ is changing $row_3$ into $row_3-5row_2$. But because $row_2$ has also been changed because of $E_{21}$. There is kind of interference. \n",
    "\n",
    "Next let's see how $A=LU$ can solve this issue. \n",
    "\n",
    "$EA=U$, then $A= \\underline {E^{-1}}U =\\underline{E_{21}^{-1}E_{31}^{-1}E_{32}^{-1}}U = \\left[\\begin{matrix} 1 & 0 &0\\cr 2 & 1&0\\cr 0&0&1\\end{matrix}\\right]  \\left[\\begin{matrix} 1 & 0 &0\\cr 0 & 1&0\\cr 0&5&1\\end{matrix}\\right] =  \\left[\\begin{matrix} 1 & 0 &0\\cr 2 & 1&0\\cr 0&5&1\\end{matrix}\\right]$\n",
    "\n",
    "We can see that there is no 10 now. By using $A=LU$, the multiplier we used for each row's operation has been preserved in $L$. "
   ]
  },
  {
   "cell_type": "markdown",
   "metadata": {},
   "source": [
    "## Computation cost  of factorizing n dimensional square matrix $A$ into $LU$"
   ]
  },
  {
   "cell_type": "markdown",
   "metadata": {},
   "source": [
    "1. Taking $a_{11}$ as pivot and changing the first row's other elements into zero. Computatoin cost is about $n^2$. \n",
    "\n",
    "$$\\left[\\begin{matrix} a_{11} & a_{12} & \\cdots & a_{1n} \\cr a_{21} & a_{22} & \\cdots & a_{2n} \\cr \\vdots & \\vdots & \\ddots & \\vdots \\cr a_{n1} & a_{n2} & \\cdots & a_{nn}\\end{matrix}\\right] \\xrightarrow{elimination} \\left[\\begin{matrix} a_{11} & a_{12} & \\cdots & a_{1n} \\cr 0 & a_{22} & \\cdots & a_{2n} \\cr \\vdots & \\vdots & \\ddots & \\vdots \\cr 0 & a_{n2} & \\cdots & a_{nn}\\end{matrix}\\right]$$\n",
    "\n",
    "2. Similarly, the computation cost of the following steps is $(n-1)^2, (n-2)^2, \\cdots, 2^2, 1^2$\n",
    "\n",
    "3. Therefore, the total computation cost is: $O(n^2 + (n-1)^2 + (n-2)^2 + \\cdots + 2^2, 1^2) = O(\\frac{n^3}{3})$\n"
   ]
  },
  {
   "cell_type": "markdown",
   "metadata": {},
   "source": [
    "## Permutation matrix"
   ]
  },
  {
   "cell_type": "markdown",
   "metadata": {},
   "source": [
    "**Permutation matrix**: is a matrix obtained by permutating the rows of an identity matrix. \n",
    "\n",
    "The number of 3 dimensional square matrix's permutation matrix: \n",
    "\n",
    "$$\\left[\\begin{matrix}1 & 0 &0 \\cr 0 &1 &0\\cr 0 &0 &1 \\end{matrix}\\right] \\left[\\begin{matrix}1 & 0 &0 \\cr 0 &0 &1\\cr 0 &1 &0 \\end{matrix}\\right]\n",
    "\\left[\\begin{matrix}0 & 1 &0 \\cr 1 &0 &0\\cr 0 &0 &1 \\end{matrix}\\right]\n",
    "\\left[\\begin{matrix}0 & 1 &0 \\cr 0 &0 &1\\cr 1 &0 &0 \\end{matrix}\\right]\n",
    "\\left[\\begin{matrix}0 & 0 &1 \\cr 1 &0 &0\\cr 0 &1 &0 \\end{matrix}\\right]\n",
    "\\left[\\begin{matrix}0 & 0 &1 \\cr 0 &1 &0\\cr 1 &0 &0 \\end{matrix}\\right]$$\n",
    "\n",
    "The number of $n$ dimensional square matrix's permutation matrix:\n",
    "$$n\\times （n-1）\\times \\cdots \\times 2\\times 1 = n! $$\n"
   ]
  }
 ],
 "metadata": {
  "kernelspec": {
   "display_name": "Python 3",
   "language": "python",
   "name": "python3"
  },
  "language_info": {
   "codemirror_mode": {
    "name": "ipython",
    "version": 3
   },
   "file_extension": ".py",
   "mimetype": "text/x-python",
   "name": "python",
   "nbconvert_exporter": "python",
   "pygments_lexer": "ipython3",
   "version": "3.6.10"
  }
 },
 "nbformat": 4,
 "nbformat_minor": 4
}
