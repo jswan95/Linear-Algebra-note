{
 "cells": [
  {
   "cell_type": "markdown",
   "metadata": {},
   "source": [
    "# Lecture 20: Cramer's Rule, Inverse Matrix, and Volume"
   ]
  },
  {
   "cell_type": "markdown",
   "metadata": {},
   "source": [
    "Reference    \n",
    "Lecture video: https://www.youtube.com/watch?v=QNpj-gOXW9M             \n",
    "Chinese note: https://nbviewer.jupyter.org/github/zlotus/notes-linear-algebra/blob/master/chapter20.ipynb "
   ]
  },
  {
   "cell_type": "markdown",
   "metadata": {},
   "source": [
    "# Formula for $A^{-1}$"
   ]
  },
  {
   "cell_type": "markdown",
   "metadata": {},
   "source": [
    "For 2 dimensional square matrix, $\\left[\\begin{array}{ll}\n",
    "a & b \\\\\n",
    "c & d\n",
    "\\end{array}\\right]^{-1}=\\frac{1}{a d-b c}\\left[\\begin{array}{cc}\n",
    "d & -b \\\\\n",
    "-c & a\n",
    "\\end{array}\\right]$. We can see that the coefficient is the reciprocal of determinant, the matrix's component is some cofactors, e.g., $d$ is the cofactor of $a$, $-b$ is the cofactor of $c$. The formula for $A^{-1}$ is as follows:\n",
    "$$\n",
    "A^{-1}=\\frac{1}{\\operatorname{det} A} C^{\\top}\n",
    "$$\n",
    "\n",
    "We already know that $AA^{-1} = I \\Longrightarrow AC^{\\top} = (\\operatorname{det}A) I $. We want to check if $AC^{\\top} = (\\operatorname{det}A) I$:\n",
    "\n",
    "$$\n",
    "\\left[\\begin{array}{cccc}\n",
    "a_{11} & a_{12} & \\cdots & a_{1 n} \\\\\n",
    "\\vdots & \\vdots & \\ddots & \\vdots \\\\\n",
    "a_{n 1} & a_{n 2} & \\cdots & a_{n n}\n",
    "\\end{array}\\right]\\left[\\begin{array}{ccc}\n",
    "C_{11} & \\cdots & C_{n 1} \\\\\n",
    "C_{12} & \\cdots & C_{n 2} \\\\\n",
    "\\vdots & \\ddots & \\vdots \\\\\n",
    "C_{1 n} & \\cdots & C_{n n}\n",
    "\\end{array}\\right]=Res\n",
    "$$\n",
    "\n",
    "Next, we want find what $Res$ is.\n",
    "\n",
    "For the diagnal element, e.g., $Res_{11} = a_{11}C_{11}+a_{12}C_{12}+\\cdots+a_{1n}C_{1n} = \\operatorname{det}A$. Similarly, $Res_{22} = \\operatorname{det}A, Res_{33} = \\operatorname{det}A, \\cdots , Res_{nn} = \\operatorname{det}A$. \n",
    "\n",
    "For the non-diagnal element: Let's first see the case of  $\\left[\\begin{array}{ll}\n",
    "a & b \\\\\n",
    "c & d\n",
    "\\end{array}\\right]$, the first row multiplies the cofactor of second row is $\n",
    "a_{11} C_{21}+a_{12} C_{22} = a(-b) + ba = 0\n",
    "$. In fact, we can consider $a(-b) + ba =0$ as the determinant of matrix $A_s = \\left[\\begin{array}{ll}\n",
    "a & b \\\\\n",
    "a & b\n",
    "\\end{array}\\right]$. $\\operatorname{det} A_s = \\underbrace{a(-b) + ba}_\\text{according to the second row} = 0$. \n",
    "\n",
    "Similarly, for the $n$ dimensional case, $Res_{1n} = a_{11} C_{n1}+a_{12} C_{n2} + \\cdots + a_{1n}C_{nn}$, this is the product of the first row multiplies the cofactor of last row. $Res_{1n} = a_{11} C_{n1}+a_{12} C_{n2} + \\cdots + a_{1n}C_{nn}$ can also be considered as the determinant of matrix $A_{s}=\\left[\\begin{array}{cccc}a_{11} & a_{12} & \\cdots & a_{1 n} \\\\ a_{21} & a_{22} & \\cdots & a_{2 n} \\\\ \\vdots & \\vdots & \\ddots & \\vdots \\\\ a_{n-1， 1} & a_{n-1，2} & \\cdots & a_{n-1 ，n} \\\\ a_{11} & a_{12} & \\cdots & a_{1 n}\\end{array}\\right]$. $\\operatorname{det} A_s = \\underbrace{a_{11} C_{n1}+a_{12} C_{n2} + \\cdots + a_{1n}C_{nn}}_\\text{according to the last row} = 0$ since $A_s$ has two same rows. \n",
    "\n",
    "Therefore, we have:\n",
    "\n",
    "$$\n",
    "\\text {Res}=\\left[\\begin{array}{cccc}\n",
    "\\operatorname{det} A & 0 & \\cdots & 0 \\\\\n",
    "0 & \\operatorname{det} A & \\cdots & 0 \\\\\n",
    "\\vdots & \\vdots & \\ddots & \\vdots \\\\\n",
    "0 & 0 & \\cdots & \\operatorname{det} A\n",
    "\\end{array}\\right] = (\\operatorname{det} A)I\n",
    "$$\n",
    "\n",
    "That means that we can calculate inverse using:\n",
    "\n",
    "$$\n",
    "A^{-1}=\\frac{1}{\\operatorname{det} A} C^{\\top}\n",
    "$$"
   ]
  },
  {
   "cell_type": "markdown",
   "metadata": {},
   "source": [
    "## Cramer's rule"
   ]
  },
  {
   "cell_type": "markdown",
   "metadata": {},
   "source": [
    "By using the formula for $A^{-1}$, now we can directly solve $Ax = b \\Longrightarrow  x = A^{-1}b = \\frac{1}{\\operatorname{det} A} C^{\\top}b$, this is also called `Cramer's rule`. \n",
    "\n",
    "For $x = A^{-1}b = \\frac{1}{\\operatorname{det} A} C^{\\top}b$, we can know that the firt component of solutiopn $ x_1 = \\frac{y_1}{\\operatorname{det} A}, \\text{where} y_1 = b_{1} C_{11}+b_{2} C_{21}+\\cdots+b_{n} C_{n 1}$. Here $y_1$ can be considered as the determinant of a matrix $B_1 = \\left[b a_{2} a_{3} \\cdots a_{n}\\right]$, which is obtained by substituting the first column of $A$ as $b$. It is easy to see that $\\operatorname{det} B_1 = b_{1} C_{11}+b_{2} C_{21}+\\cdots+b_{n} C_{n 1}$ according to the cofactor expansion of first column.  Thus, we have $x_{1}=\\frac{\\text { det } B_{1}}{\\text { det } A}$. \n",
    "\n",
    "Generally, we can have: $x_{j}=\\frac{\\text { det } B_{j}}{\\text { det } A}$ where $B_{j}=\\left[a_{1} a_{2} \\cdots a_{j-1} b a_{j+1} \\cdots a_{n}\\right]$ obtained by substituting $j$th column of $A$ as $b$. "
   ]
  },
  {
   "cell_type": "markdown",
   "metadata": {},
   "source": [
    "## Volume"
   ]
  },
  {
   "cell_type": "markdown",
   "metadata": {},
   "source": [
    "First of all, we claim that: the absolute value of determinant is the volumn of a box. \n",
    "\n",
    "Assume a 3 dimensional square matrix $A$, let the first row $(a_11, a_12, a_13)$ as the coordinate of $A_1$ in the three dimensional space. Similarly, we can also have $A_2, A_3$. Then we can construct a parallelepiped according to the three edges which is obtained by connecting the three points and origin. $\\| \\operatorname{det} A \\|$ is the volume of the  parallelepiped. \n",
    "\n",
    "For 3 dimensional identity matrix, its corresponding box is a unit cube whose volume is $1=\\operatorname{det}A$. This verifies the Property 1 of determinant. \n",
    "\n",
    "For Property 2 of determinant: switching rows reverse the sign, but the absolute value does not change. If switch two rows, the volume of corresponding parallelpiped does not change, thus the absolute of determinant also will not change. \n",
    "\n",
    "Suppose we have a orthogonal matrix $Q$, the corresponding box is also a unit cube, but it is rotated. For orthogonal matrix, $Q^{\\top} Q= I \\Longrightarrow |Q^{\\top}Q| = |I| \\Longrightarrow |Q^{\\top}Q| = 1 = |Q^{\\top}||Q|$. Because of Property 10, we have $|Q^{\\top}|=|Q|$. Therefore, $|Q|^{\\top} = 1 \\Longrightarrow |Q|= \\pm 1$.\n",
    "\n",
    "Now we consider rectangular box. Assume the first row of $Q$ is multiplied by 2, we get a new matrix $Q_2$. Then $\\operatorname{det} Q_2 = 2 \\operatorname{det} Q$. How the box changes? The first edge of correponding box is also doubled, thus the volume is also doubled.  The volume also satisfies the Property 3-a of determinant. This again verifies our claim. \n",
    "\n",
    "Let's see a two dimensional square matrix case, the Property 3-b says that:\n",
    "$$\n",
    "\\left|\\begin{array}{cc}\n",
    "a+a^{\\prime} & b+b^{\\prime} \\\\\n",
    "c & d\n",
    "\\end{array}\\right|=\\left|\\begin{array}{ll}\n",
    "a & b \\\\\n",
    "c & d\n",
    "\\end{array}\\right|+\\left|\\begin{array}{cc}\n",
    "a^{\\prime} & b^{\\prime} \\\\\n",
    "c & d\n",
    "\\end{array}\\right|$$\n",
    "\n",
    "In this case, the derminant is computing the area of the parallelogram. Thus for a parallelogram formed by four points $(0,0),(a, b),(c, d),(a+c, b+d)$, its area is $\\left|\\begin{array}{ll}\n",
    "a & b \\\\\n",
    "c & d\n",
    "\\end{array}\\right| =ad-bc $. This means that if we know the coordiante of the point, we can directly compute their area or volume by just computing the determinant. For the triangular formed by  $(0,0),(a, b),(c, d)$, we can calculate its area which is $\\frac{1}{2}\\left|\\begin{array}{ll}\n",
    "a & b \\\\\n",
    "c & d\n",
    "\\end{array}\\right| =\\frac{ad-bc}{2}$\n",
    "\n",
    "In general case where the traingle formed by $\\left(x_{1}, y_{1}\\right),\\left(x_{2}, y_{2}\\right),\\left(x_{3}, y_{3}\\right)$, the area can be computed by $$\\frac{1}{2}\\left|\\begin{array}{lll}x_{1} & y_{1} & 1 \\\\ x_{2} & y_{2} & 1 \\\\ x_{3} & y_{3} & 1\\end{array}\\right| = \\frac{1}{2}\\left|\\begin{array}{ccc}x_{1} & y_{1} & 1 \\\\ x_{2}-x_{1} & y_{2}-y_{1} & 0 \\\\ x_{3}-x_{1} & y_{3}-y_{1} & 0\\end{array}\\right| = \\frac{\\left(x_{2}-x_{1}\\right)\\left(y_{3}-y_{1}\\right)-\\left(x_{3}-x_{1}\\right)\\left(y_{2}-y_{1}\\right)}{2}$$. \n",
    "\n",
    "What we do is moving the triangle to the origin. "
   ]
  }
 ],
 "metadata": {
  "kernelspec": {
   "display_name": "Python 3",
   "language": "python",
   "name": "python3"
  },
  "language_info": {
   "codemirror_mode": {
    "name": "ipython",
    "version": 3
   },
   "file_extension": ".py",
   "mimetype": "text/x-python",
   "name": "python",
   "nbconvert_exporter": "python",
   "pygments_lexer": "ipython3",
   "version": "3.6.10"
  }
 },
 "nbformat": 4,
 "nbformat_minor": 4
}
