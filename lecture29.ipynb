{
 "cells": [
  {
   "cell_type": "markdown",
   "metadata": {},
   "source": [
    "# Lecture 29: Similar Matrices and Jordan Form"
   ]
  },
  {
   "cell_type": "markdown",
   "metadata": {},
   "source": [
    "Reference    \n",
    "Lecture video: https://www.youtube.com/watch?v=TSdXJw83kyA             \n",
    "Chinese note: https://nbviewer.jupyter.org/github/zlotus/notes-linear-algebra/blob/master/chapter29.ipynb "
   ]
  },
  {
   "cell_type": "markdown",
   "metadata": {},
   "source": [
    "Before talking about similar matrices, let's talk a little more about positive definite matrices. \n",
    "* The inverse of positive definite matrix. The positive definite matrices can be decomposed as $A=S \\Lambda S^{-1}$, its inverse is $A^{-1}=S \\Lambda^{-1} S^{-1}$. Because the eigenvalues of positive definite matrices are positive, thus the eigenvalues of their inverse are also positive. Therefore, we can say that the inverse of positive definite matrix is also positive definite\n",
    "* Suppose $A,B$ are positive definite, how about $A+B$? First we have $x^{T} A x>0, x^{T} B x>0$. Then $x^{T}(A+B) x>0$, thus the sum of positive definite matrix is also positive definite. \n",
    "* Suppose $m\\times n$ matrix $A$, is $A^{\\top}A$ positive definite? $A^{\\top} A$ is a symmetric matrix, it is like the square of a number or the length square of a vector. For $A^{\\top} A$, it is positive semidefinite: $x^{T} A^{T} A x = (A x)^{T}(A x) = |A x|^{2} \\geq 0$. If the columns of $A$ are linearly independent, then $\\operatorname{rank}(A)=n$, we have $|A x|^{2} > 0$ $A^{\\top}A$ positive definite. \n",
    "* With a positive definite matrix, there is no need to do row exchanges. The pivot will never be zero. "
   ]
  },
  {
   "cell_type": "markdown",
   "metadata": {},
   "source": [
    "## Simmlar Matrices"
   ]
  },
  {
   "cell_type": "markdown",
   "metadata": {},
   "source": [
    "For matrix $A$ and $ B$, we say they are simmlar matrices if $B=M^{-1} A M$ for some matrix $M$. In lecture 22, we talked about the diagonalization of matrix: $S^{-1} A S=\\Lambda$, thus $A, \\Lambda$ are similar. \n",
    "\n",
    "For example, $A=\\left[\\begin{array}{ll}2 & 1 \\\\ 1 & 2\\end{array}\\right]$, it is easy to get its diagonal matrix $\\Lambda=\\left[\\begin{array}{ll}3 & 0 \\\\ 0 & 1\\end{array}\\right]$. Suppose $M=\\left[\\begin{array}{ll}1 & 4 \\\\ 0 & 1\\end{array}\\right]$, then $B=M^{-1} A M=\\left[\\begin{array}{cc}1 & -4 \\\\ 0 & 1\\end{array}\\right]\\left[\\begin{array}{ll}2 & 1 \\\\ 1 & 2\\end{array}\\right]\\left[\\begin{array}{ll}1 & 4 \\\\ 0 & 1\\end{array}\\right]=\\left[\\begin{array}{cc}-2 & -15 \\\\ 1 & 6\\end{array}\\right]$. We can see that the eigenvalues (using trace and determinant) of $\\Lambda, A, B$ are the same. $\\lambda_{\\Lambda}=3,1$; $\\lambda_{A}=3,$ 1; $\\lambda_{B}=3,1$. \n",
    "\n",
    "Actually, similar matrices have the same eigenvalues. We can also write some matrices that are similar to $A$: $\\left[\\begin{array}{ll}3 & 7 \\\\ 0 & 1\\end{array}\\right] ,\\left[\\begin{array}{ll}1 & 7 \\\\ 0 & 3\\end{array}\\right]$. They all have eigenvalues 3 and 1. The most special one is $\\Lambda$. \n",
    "\n",
    "Now we prove that: similar matrices have the same eigenvalues. \n",
    "\n",
    "$$A x=\\lambda x, B=M^{-1} A M$$ $$A M M^{-1} x=\\lambda x \\rightarrow M^{-1} A M M^{-1} x=\\lambda M^{-1} x$$\n",
    "\n",
    "$$\\left(M^{-1} A M\\right) M^{-1} x=\\lambda M^{-1} x \\rightarrow B M^{-1}=\\lambda M^{-1} x$$\n",
    "\n",
    "The eigenvectors changes into $M^{-1}x$,but the eigenvalues are still $\\lambda$. \n",
    "\n",
    "But there are some caes that the eigenvalues are repeated. Suppose $\\lambda_{1}=\\lambda_{2}=4$, we can write two matrices with such eigenvalues: $\\left[\\begin{array}{ll}4 & 0 \\\\ 0 & 4\\end{array}\\right],\\left[\\begin{array}{ll}4 & 1 \\\\ 0 & 4\\end{array}\\right]$. The matrix with such eigenvalues can be divided into two families. The first family only containes one matrix $\\left[\\begin{array}{ll}4 & 0 \\\\ 0 & 4\\end{array}\\right]$ because it is similar to itself. $M^{-1}\\left[\\begin{array}{ll}4 & 0 \\\\ 0 & 4\\end{array}\\right] M=4 M^{-1} I M=4 I=\\left[\\begin{array}{ll}4 & 0 \\\\ 0 & 4\\end{array}\\right]$. No matter what $M$ is, the similar matrix is always itself. The other family is like $\\left[\\begin{array}{ll}4 & 1 \\\\ 0 & 4\\end{array}\\right]$, there are other matrices in this family and they are all similar. $\\left[\\begin{array}{ll}4 & 1 \\\\ 0 & 4\\end{array}\\right]$ is called `Jordan form`. We can build some matrices that are similar to $\\left[\\begin{array}{ll}4 & 1 \\\\ 0 & 4\\end{array}\\right]$: $\\left[\\begin{array}{cc}5 & 1 \\\\ -1 & 3\\end{array}\\right],\\left[\\begin{array}{cc}4 & 0 \\\\ 17 & 4\\end{array}\\right]$. Their $\\operatorname{trace}(A)=8, \\operatorname{det} A=16$. They are all in the same family with $\\left[\\begin{array}{ll}4 & 1 \\\\ 0 & 4\\end{array}\\right]$. "
   ]
  },
  {
   "cell_type": "markdown",
   "metadata": {},
   "source": [
    "## Jordan form"
   ]
  },
  {
   "cell_type": "markdown",
   "metadata": {},
   "source": [
    "* $\\left[\\begin{array}{llll}0 & 1 & 0 & 0 \\\\ 0 & 0 & 1 & 0 \\\\ 0 & 0 & 0 & 0 \\\\ 0 & 0 & 0 & 0\\end{array}\\right]$, its eigenvalues are all zeros. Its rank is 2. The dimension of null space is 4-2=2. It has 2 independent eigenvectors. \n",
    "* $\\left[\\begin{array}{llll}0 & 1 & 0 & 0 \\\\ 0 & 0 & 0 & 0 \\\\ 0 & 0 & 0 & 1 \\\\ 0 & 0 & 0 & 0\\end{array}\\right]$, its eigenvalues are all zeros. Its rank is 2. It also has 2 independent eigenvectors. \n",
    "* But they are not similar because Jordan considers the first as a $3\\times 3$ block with a $1\\times 1$ block and considers the second matrix as two $2\\times 2$ blocks. \n",
    "$$\\left[\\begin{array}{lll|l}0 & 1 & 0 & 0 \\\\ 0 & 0 & 1 & 0 \\\\ 0 & 0 & 0 & 0 \\\\ \\hline 0 & 0 & 0 & 0\\end{array}\\right], \\left[\\begin{array}{ll|ll}0 & 1 & 0 & 0 \\\\ 0 & 0 & 0 & 0 \\\\ \\hline 0 & 0 & 0 & 1 \\\\ 0 & 0 & 0 & 0\\end{array}\\right]$$\n",
    "\n",
    "The definition of Jordan block: $J_{i}=\\left[\\begin{array}{cccccc}\\lambda_{i} & 1 & & \\cdots & \\\\ & \\lambda_{i} & 1 & \\cdots & \\\\ & & \\lambda_{i} & \\cdots & \\\\ \\vdots & \\vdots & \\vdots & \\ddots & \\\\ & & & & \\lambda_{i}\\end{array}\\right]$. Its diagonal has the number and has only 1 eigenvectors. \n",
    "\n",
    "Every matrix $A$ is similar to a Jordan maatrix, $J=\\left[\\begin{array}{l|l|l|l}J_{1} & & & \\\\ \\hline & J_{2} & & \\\\ \\hline & & \\ddots & \\\\ \\hline & & & J_{d}\\end{array}\\right]$. The number of Jordan blocks are the same as the number of eigenvalues. \n",
    "\n",
    "The \"good matrix\" we say, is actually the $n$ dimensional matrix has $n$ different eigenvalues. It can be diagonalized, thus its Jordan matrix is $\\Lambda$, it has $n$ independent vectors and $n$ Jordan blocks. Each element of the diagonal is a Jordan block. "
   ]
  }
 ],
 "metadata": {
  "kernelspec": {
   "display_name": "Python 3",
   "language": "python",
   "name": "python3"
  },
  "language_info": {
   "codemirror_mode": {
    "name": "ipython",
    "version": 3
   },
   "file_extension": ".py",
   "mimetype": "text/x-python",
   "name": "python",
   "nbconvert_exporter": "python",
   "pygments_lexer": "ipython3",
   "version": "3.6.10"
  }
 },
 "nbformat": 4,
 "nbformat_minor": 4
}
