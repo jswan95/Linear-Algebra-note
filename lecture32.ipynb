{
 "cells": [
  {
   "cell_type": "markdown",
   "metadata": {},
   "source": [
    "# Lecture 32: Change of Basis; Image Compression"
   ]
  },
  {
   "cell_type": "markdown",
   "metadata": {},
   "source": [
    "Reference    \n",
    "Lecture video: https://www.youtube.com/watch?v=0h43aV4aH7I             \n",
    "Chinese note: https://nbviewer.jupyter.org/github/zlotus/notes-linear-algebra/blob/master/chapter32.ipynb   \n",
    "Official summary: https://ocw.mit.edu/courses/mathematics/18-06sc-linear-algebra-fall-2011/positive-definite-matrices-and-applications/change-of-basis-image-compression/MIT18_06SCF11_Ses3.7sum.pdf"
   ]
  },
  {
   "cell_type": "markdown",
   "metadata": {},
   "source": [
    "## Image Compression"
   ]
  },
  {
   "cell_type": "markdown",
   "metadata": {},
   "source": [
    "Suppose we have a $512 \\times 512$ image, $x_i$ denoted as $i$th pixel and usually $x_i \\in [0, 255]$. To fully contain the information of the image, we need a vector $x \\in \\mathbb{R}^n, n= 512^2$. If the image is RBG, the length of vector will becomes three times long.\n",
    "\n",
    "This is kind of way produces such a \"big\" image, we need to compress the image for efficient transimission. One of the popular way is JPEG (Joint Photographic Expert Group)， which compresses the images by changing basis. \n",
    "\n",
    "We are using standard basis $\\left[\\begin{array}{c}1 \\\\ 0 \\\\ \\vdots \\\\ 0\\end{array}\\right]\\left[\\begin{array}{c}0 \\\\ 1 \\\\ \\vdots \\\\ 0\\end{array}\\right] \\cdots\\left[\\begin{array}{c}0 \\\\ 0 \\\\ \\vdots \\\\ 1\\end{array}\\right]$ to describe image, now we want find a better basis. \n",
    "\n",
    "For example, \n",
    "* If one element of the basis is $\\left[\\begin{array}{llll}1 & 1 & \\ldots & 1\\end{array}\\right]^{T}$, it can efficiently describes all pixels having the same level.\n",
    "* If one element of the basis is $\\left[\\begin{array}{ccccc}1 & -1 & \\cdots & 1 & -1\\end{array}\\right]^{T}$, it can efficiently describes image like chess board\n",
    "* If one element of the basis is $\\left[\\begin{array}{ccccc}1 & 1 & \\cdots & -1 & -1\\end{array}\\right]^{T}$, it corresponds to the image that half dark and half bright"
   ]
  },
  {
   "cell_type": "markdown",
   "metadata": {},
   "source": [
    "### Fourier Basis Vectors"
   ]
  },
  {
   "cell_type": "markdown",
   "metadata": {},
   "source": [
    "Fourier basis is a widely one for image compression. We take the $8\\times 8$ case as an example:\n",
    "$$F_{n}=\\left[\\begin{array}{ccccc}1 & 1 & 1 & \\cdots & 1 \\\\ 1 & w & w^{2} & \\cdots & w^{n-1} \\\\ 1 & w^{2} & w^{4} & \\cdots & w^{2(n-1)} \\\\ \\vdots & \\vdots & \\vdots & \\ddots & \\vdots \\\\ 1 & w^{n-1} & w^{2(n-1)} & \\cdots & w^{(n-1)^{2}}\\end{array}\\right], w=e^{i 2 \\pi / n}, n=8$$\n",
    "\n",
    "If we compress a $8\\times 8$ image, there are 64 pixels, 64 element vectors of the standard basis, 64 coefficients. We are going to do basis change using Fourier basis vectors. The steps are as follows:\n",
    "* Input 64 dimensional vectors (input signal) $\\xrightarrow {\\text{basis change}}$ 64 coefficients under Fourier basis (this step is lossless)\n",
    "* To compress the image, we can eliminate all coefficients below some threshold so that we can hardly see the difference. Now we get $\\hat c$, which contains some 0.\n",
    "* Then we reconstruct the signal: $\\hat{x}=\\sum \\hat{c}_{i} v_{i}$. Since there are many 0 in $\\hat c$, suppose there are three non-zero terms, then the compression ratio is 21:1. "
   ]
  },
  {
   "cell_type": "markdown",
   "metadata": {},
   "source": [
    "### The Haar wavelet basis "
   ]
  },
  {
   "cell_type": "markdown",
   "metadata": {},
   "source": [
    "Wavelet is another widely used basis,which can be considered as an alternative of Fourier basis. Still, we take the $8\\times 8$ cases as an example:\n",
    "\n",
    "$$\\left[\\begin{array}{l}1 \\\\ 1 \\\\ 1 \\\\ 1 \\\\ 1 \\\\ 1 \\\\ 1 \\\\ 1\\end{array}\\right]\\left[\\begin{array}{c}1 \\\\ 1 \\\\ 1 \\\\ 1 \\\\ -1 \\\\ -1 \\\\ -1 \\\\ -1\\end{array}\\right]\\left[\\begin{array}{c}1 \\\\ 1 \\\\ -1 \\\\ -1 \\\\ 0 \\\\ 0 \\\\ 0 \\\\ 0\\end{array}\\right]\\left[\\begin{array}{c}0 \\\\ 0 \\\\ 0 \\\\ 0 \\\\ 1 \\\\ 1 \\\\ -1 \\\\ -1\\end{array}\\right]\\left[\\begin{array}{c}1 \\\\ -1 \\\\ 0 \\\\ 0 \\\\ 0 \\\\ 0 \\\\ 0 \\\\ 0\\end{array}\\right]\\left[\\begin{array}{c}0 \\\\ 0 \\\\ 1 \\\\ -1 \\\\ 0 \\\\ 0 \\\\ 0 \\\\ 0\\end{array}\\right]\\left[\\begin{array}{c}0 \\\\ 0 \\\\ 0 \\\\ 0 \\\\ 1 \\\\ -1 \\\\ 0 \\\\ 0\\end{array}\\right]\\left[\\begin{array}{c}0 \\\\ 0 \\\\ 0 \\\\ 0 \\\\ 0 \\\\ 0 \\\\ 1 \\\\ -1\\end{array}\\right]$$\n",
    "\n",
    "Linear algebra is to find the coefficients $c_i$ in the change of basis from the standard basis to the Fourier or wavelet basis:\n",
    "$$\\mathbf{x}=c_{1} \\mathbf{w}_{1}+\\cdots+c_{8} \\mathbf{w}_{8} = W\\left[\\begin{array}{r}c_{1} \\\\ c_{2} \\\\ \\vdots \\\\ c_{8}\\end{array}\\right]$$\n",
    "\n",
    "So $\\mathbf{c}=W^{-1} \\mathbf{x}$. \n",
    "\n",
    "To make the inverse calculation faster, we should select basis that satisfies the following requirement:\n",
    "* Multiplication by the basis matrix and its inverse is fast (FFT, FWT)\n",
    "* Good compression: The image can be approximated using only a few basis vectors. This ensures compression efficiency and quality. \n"
   ]
  },
  {
   "cell_type": "markdown",
   "metadata": {},
   "source": [
    "## Basis Change"
   ]
  },
  {
   "cell_type": "markdown",
   "metadata": {},
   "source": [
    "In the wavelet basis section, we have used basis change. $[x] \\stackrel{x=W c}{\\longrightarrow}[c]$. \n",
    "\n",
    "Suppose we have linear transformation  $T: \\mathbb{R}^{8} \\rightarrow \\mathbb{R}^{8}$, $T$ has matrix $A$ when working with basis $v_{1}, v_{2}, \\cdots, v_{8}$. We get $T$ has matrix $B$ when working with basis $w_{1}, w_{2}, \\cdots, w_{n}$. It turns out that $A$ and $B$ must be similar matrices: $B=M^{-1} A M$ for some chnage of basis matrix $M$. \n",
    "\n",
    "If we do basis change:\n",
    "* Each vector will get a new coordinate: $x = Wc$\n",
    "* Each linear transformation will have a new matrix: $B=M^{-1} A M$\n",
    "\n",
    "How to compute the corresponding matrix of linear transformation when working with $v_{1}, v_{2}, \\cdots, v_{8}$? \n",
    "$$x=c_{1} v_{1}+c_{2} v_{2}+\\cdots+c_{8} v_{8}$$ $$T(x)=c_{1} T\\left(v_{1}\\right)+c_{2} T\\left(v_{2}\\right)+\\cdots+c_{8} T\\left(v_{8}\\right)$$\n",
    "\n",
    "Moreover, $T\\left(v_{1}\\right)=a_{11} v_{1}+a_{21} v_{2}+\\cdots+a_{81} v_{8}, T\\left(v_{2}\\right)=a_{12} v_{1}+a_{22} v_{2}+\\cdots+a_{82} v_{8}, \\cdots$\n",
    "\n",
    "Thus: $A=\\left[\\begin{array}{c|c|c|c}a_{11} & a_{12} & \\cdots & a_{1 n} \\\\ a_{21} & a_{22} & \\cdots & a_{2 n} \\\\ \\vdots & \\vdots & \\ddots & \\vdots \\\\ a_{m 1} & a_{m 2} & \\cdots & a_{m n}\\end{array}\\right]$\n",
    "\n",
    "If $v_1, v_2, \\cdots, v_n$ are eigenvectors, $T\\left(v_{i}\\right)=\\lambda_{1} v_{i}$, what is $A$ then? \n",
    "\n",
    "$A=\\left[\\begin{array}{llll}\\lambda_{1} & & & \\\\ & \\lambda_{2} & & \\\\ & & \\ddots & \\\\ & & & \\lambda_{n}\\end{array}\\right]$\n",
    "\n",
    "It would be wonderful to use a basis of eigenvectors for image processing, but finding such a basis requires far more computation than simply using Fourier or wavelet basis. "
   ]
  }
 ],
 "metadata": {
  "kernelspec": {
   "display_name": "Python 3",
   "language": "python",
   "name": "python3"
  },
  "language_info": {
   "codemirror_mode": {
    "name": "ipython",
    "version": 3
   },
   "file_extension": ".py",
   "mimetype": "text/x-python",
   "name": "python",
   "nbconvert_exporter": "python",
   "pygments_lexer": "ipython3",
   "version": "3.6.10"
  }
 },
 "nbformat": 4,
 "nbformat_minor": 4
}
