{
 "cells": [
  {
   "cell_type": "markdown",
   "metadata": {},
   "source": [
    "# Lecture 13： Quiz 1 Review"
   ]
  },
  {
   "cell_type": "markdown",
   "metadata": {},
   "source": [
    "Reference    \n",
    "Lecture video: https://www.youtube.com/watch?v=l88D4r74gtM          \n",
    "Chinese note: https://nbviewer.jupyter.org/github/zlotus/notes-linear-algebra/blob/master/chapter13.ipynb  "
   ]
  },
  {
   "cell_type": "markdown",
   "metadata": {},
   "source": [
    "1. $u, v, w$ are nonzero vectors in vector space $\\mathbb{R}^2$, then dimension of the subspace spanned by $u, v, w$ may be 1, 2, or 3. \n",
    "\n",
    "2. $U$ is a $5\\times 3$ matrix in echelon form, it has three pivots: then the rank of $U$ is 3, its three column vectors are linearly independent, there is no nonzero vector making the linear combination of the three column vectors to be zero vector, the null space of $U$ has only one element $\\left[\\begin{array}{l}0 \\\\ 0 \\\\ 0\\end{array}\\right]$\n",
    "\n",
    "3. $B$ is a $10\\times 3$ matrix, $B=\\left[\\begin{array}{c}U \\\\ 2 U\\end{array}\\right]$, then its echelon form is $\\left[\\begin{array}{c}U \\\\ 0\\end{array}\\right]$. If rank of $U$ is 3, then rank of $B$ is also 3. \n",
    "\n",
    "4. If $C=\\left[\\begin{array}{ll}U & U \\\\ U & 0\\end{array}\\right]$, its echelon form is $\\left[\\begin{array}{ll}U &  0\\\\ 0 & U\\end{array}\\right]$, but if $U$ has some zero rows, we should move the zero rows to the bottom. If rank of $U$ is 3, then the rank of $C$ is 6, $\\operatorname{dimN}(C^{\\top}) = m-r = 4$. \n",
    "\n",
    "5. $A x=\\left[\\begin{array}{l}2 \\\\ 4 \\\\ 2\\end{array}\\right]$, and $x=\\left[\\begin{array}{l}2 \\\\ 0 \\\\ 0\\end{array}\\right]+c\\left[\\begin{array}{l}1 \\\\ 1 \\\\ 0\\end{array}\\right]+d\\left[\\begin{array}{l}0 \\\\ 0 \\\\ 1\\end{array}\\right]$. Then we can know that: the shape of $A$ is $3\\times 3$. $\\left[\\begin{array}{l}2 \\\\ 0 \\\\ 0\\end{array}\\right]$ is a special solution of $Ax =\\left[\\begin{array}{l}2 \\\\ 4 \\\\ 2\\end{array}\\right] $, thus the first column of $A$ is $\\left[\\begin{array}{l}1 \\\\ 2 \\\\ 1\\end{array}\\right] $.  $\\left[\\begin{array}{l}1 \\\\ 1 \\\\ 0\\end{array}\\right]$ and $\\left[\\begin{array}{l}0 \\\\ 0 \\\\ 1\\end{array}\\right]$ are two special solutions of $Ax = 0$. Therefore, the second column vector and the third column vector of $A$ are $\\left[\\begin{array}{l}-1 \\\\ -2 \\\\ -1\\end{array}\\right] $, $\\left[\\begin{array}{l}0 \\\\ 0 \\\\ 0\\end{array}\\right]$. $\\operatorname{rank}(A) = 1, \\operatorname{dimN}(A)=2$. \n",
    "\n",
    "6. Continuing the last question, how to ensure that $Ax=b$ has a non-zero solution? Then we need to make sure that $b$ is in the column space of $A$, which is $c\\left[\\begin{array}{l}1 \\\\ 2 \\\\ 1\\end{array}\\right] $. \n",
    "\n",
    "7. Suppose there is a square matrix $A$, the null space of $A$ has only zero vector. Then its left null space also has only one element： zero vector. \n",
    "\n",
    "8. Suppose a matrix space formed by $5\\times 5$ matrix. The invertible matrix does not span a subspace because the sum of two invertible matrix can not guarantee invertibility. Moreover, 0 matrix is not in invertible matrix.  \n",
    "\n",
    "9. If $B^2 = 0$, we can not obtain $B = 0$. Counter example:  $\\left[\\begin{array}{ll}0 & 1 \\\\ 0 & 0\\end{array}\\right]$. \n",
    "\n",
    "10. $n\\times n$ matrix's column vectors are linearly independent, then $\\forall b, A x=b$ has solutions? That's true, because its column vectors are linearly independent, then the column vector spans the whole $\\mathbb{R}^n$ space, b must be in the column space of $A$. \n",
    "\n",
    "11. $B=\\left[\\begin{array}{lll}1 & 1 & 0 \\\\ 0 & 1 & 0 \\\\ 1 & 0 & 1\\end{array}\\right]\\left[\\begin{array}{cccc}1 & 0 & -1 & 2 \\\\ 0 & 1 & 1 & -1 \\\\ 0 & 0 & 0 & 0\\end{array}\\right]$, how to obtain the null space of $B$ without exactly calculating $B$.  We can see that the first matrix is invertible. Assume $B = CD$, we want to obtain the solution space of $Bx = 0, CDx = 0$. Because $C$ is invertible, thus $C^{-1}CDx = C^{-1}0 \\Longrightarrow Dx = 0$. Thus if $C$ is invertible matrix, then $N(CD) = N(D)$. Now we want to find the null space of $D$. D has been in the form of $\\left[\\begin{matrix} I & F \\cr 0 & 0\\end{matrix}\\right]$, thus a basis of the null space of $D$ is $\\left[\\begin{array}{c}-F \\\\ I\\end{array}\\right]$, which is $\\left[\\begin{array}{c}1 \\\\ -1 \\\\ 1 \\\\ 0\\end{array}\\right] \\quad\\left[\\begin{array}{c}-2 \\\\ 1 \\\\ 0 \\\\ 1\\end{array}\\right]$\n",
    "\n",
    "12. Continuing the last question, please find the solution of $Bx = \\left[\\begin{array}{c}1 \\\\ 0 \\\\ 1\\end{array}\\right]$. From $B = CD = \\left[\\begin{array}{lll}1 & 1 & 0 \\\\ 0 & 1 & 0 \\\\ 1 & 0 & 1\\end{array}\\right]\\left[\\begin{array}{cccc}1 & 0 & -1 & 2 \\\\ 0 & 1 & 1 & -1 \\\\ 0 & 0 & 0 & 0\\end{array}\\right]$, we can obtain that the first column of $B$ must be $\\left[\\begin{array}{c}1 \\\\ 0 \\\\ 1\\end{array}\\right]$, thus $\\left[\\begin{array}{c}1 \\\\ 0 \\\\ 0\\\\0\\end{array}\\right]$ can be a special solution. In the last question , we have obtained the basis of the null space of $B$. Then the solution of  $Bx = \\left[\\begin{array}{c}1 \\\\ 0 \\\\ 1\\end{array}\\right]$ is $x=\\left[\\begin{array}{l}1 \\\\ 0 \\\\ 0 \\\\ 0\\end{array}\\right]+c_{1}\\left[\\begin{array}{c}1 \\\\ -1 \\\\ 1 \\\\ 0\\end{array}\\right]+c_{2}\\left[\\begin{array}{c}-2 \\\\ 1 \\\\ 0 \\\\ 1\\end{array}\\right]$. \n",
    "\n",
    "13. For any square matirx, its row space equals its column space? That's not true. A counter example is $\\left[\\begin{array}{ll}0 & 1 \\\\ 0 & 0\\end{array}\\right]$. But for all symmetric matrix, the statement is true. \n",
    "\n",
    "14. $A$ and $-A$ have the same row space, column space, null space, and left null space. \n",
    "\n",
    "15. If matrix $A, B$ have the same four fundamental subspaces, then $A= cB$. That's not true. If $A, B$ are $n\\times n$ invertible matrix, then $A, B$ have the same column space and row space $\\mathbb{R}^n$, they also have the same null space and left null space $\\{0\\}$. But $A$ may not be $cB$. \n",
    "\n",
    "16. If we switch the two rows of a matrix, then its row space and null space does not change, but column space and left null space has changed. \n",
    "\n",
    "17. Why vector $v=\\left[\\begin{array}{l}1 \\\\ 2 \\\\ 3\\end{array}\\right]$ can not simultaneously be in the row space and column space of a matrix? Assume $A\\left[\\begin{array}{l}1 \\\\ 2 \\\\ 3\\end{array}\\right]=\\left[\\begin{array}{l}0 \\\\ 0 \\\\ 0\\end{array}\\right]$, it is obvious that $\\left[\\begin{array}{lll}1 & 2 & 3\\end{array}\\right]$ can not be in the row space of $A$, otherwise they will not get zero vector. The intersection of row space and null space is only zero vector. The null space and row space of a matrix are `perpendicular`, which will be covered later. "
   ]
  }
 ],
 "metadata": {
  "kernelspec": {
   "display_name": "Python 3",
   "language": "python",
   "name": "python3"
  },
  "language_info": {
   "codemirror_mode": {
    "name": "ipython",
    "version": 3
   },
   "file_extension": ".py",
   "mimetype": "text/x-python",
   "name": "python",
   "nbconvert_exporter": "python",
   "pygments_lexer": "ipython3",
   "version": "3.6.10"
  }
 },
 "nbformat": 4,
 "nbformat_minor": 4
}
