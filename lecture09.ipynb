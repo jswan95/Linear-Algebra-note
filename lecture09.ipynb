{
 "cells": [
  {
   "cell_type": "markdown",
   "metadata": {},
   "source": [
    "# Lecture 9: Independence, Basis, and Dimension"
   ]
  },
  {
   "cell_type": "markdown",
   "metadata": {},
   "source": [
    "Reference    \n",
    "Lecture video: https://www.youtube.com/watch?v=yjBerM5jWsc&list=PLE7DDD91010BC51F8&index=10        \n",
    "Chinese note: https://nbviewer.jupyter.org/github/zlotus/notes-linear-algebra/blob/master/chapter09.ipynb  "
   ]
  },
  {
   "cell_type": "markdown",
   "metadata": {},
   "source": [
    "Assume $v_1, v_2, ..., v_n $ is the column vectors of matrix $A$. \n",
    "\n",
    "If the null space of $A$ consists of only one element: 0 vector, then we say the column vectors are linearly independent, $\\mathrm{rank}(A) = n$. \n",
    "\n",
    "If there exists non-zero vectors $c$ such that $Ac=0$, this means that the columns vectors are linearly dependent, $\\mathrm{rank}(A) < n$\n",
    "\n",
    "For the basis of a vector space $S$, they have the following properties:\n",
    "\n",
    "1. They are linearly independent\n",
    "2. They span $S$\n",
    "\n",
    "For vector space $\\mathbb{R}^n$, if $n$ vectors forming an invertible matrix, then the $n$ vectors can be the basis of the vector space. The number of basis: $n$ is called the `dimension` of the vector space. \n",
    "\n",
    "For matrix $A= \\left[\\begin{array}{llll}\n",
    "1 & 2 & 3 & 1 \\\\\n",
    "1 & 1 & 2 & 1 \\\\\n",
    "1 & 2 & 3 & 1\n",
    "\\end{array}\\right]$, the column vectors of $A$ is linearly dependent, thus there exists non-zero vectors in the null space of $A$ (e.g.$ [1, 1, -1, 0]^{\\top}$). Morever, $$\\mathrm{rank}(A) = 2 = \\text{the number of pivot columns} = \\text{the dimension of column space} $$ \n",
    "\n",
    "We can calculate the two special solutions： \n",
    "$$\n",
    "x_{1}=\\left[\\begin{array}{c}\n",
    "-1 \\\\\n",
    "-1 \\\\\n",
    "1 \\\\\n",
    "0\n",
    "\\end{array}\\right], x_{2}=\\left[\\begin{array}{c}\n",
    "-1 \\\\\n",
    "0 \\\\\n",
    "0 \\\\\n",
    "1\n",
    "\\end{array}\\right]\n",
    "$$\n",
    "\n",
    "In previous lectures, we have mentioned that the number of special solutions eqauls the number of free variables. Therefore, we have:\n",
    "\n",
    "$$n - \\mathrm{rank}(A) = 2 = \\text{the number of non-pivot columns} = \\text{the dimension of null space}$$\n",
    "\n",
    "Overall, the most important conclusions we get is:\n",
    "\n",
    "$$\\underbrace{\\mathrm{dimC}(A)}_\\text{dimension of column space} = \\mathrm{rank}(A), \\underbrace{\\mathrm{dimN}(A)}_\\text{dimension of null space}=n-\\mathrm{rank}(A)$$"
   ]
  }
 ],
 "metadata": {
  "kernelspec": {
   "display_name": "Python 3",
   "language": "python",
   "name": "python3"
  },
  "language_info": {
   "codemirror_mode": {
    "name": "ipython",
    "version": 3
   },
   "file_extension": ".py",
   "mimetype": "text/x-python",
   "name": "python",
   "nbconvert_exporter": "python",
   "pygments_lexer": "ipython3",
   "version": "3.6.10"
  }
 },
 "nbformat": 4,
 "nbformat_minor": 4
}
