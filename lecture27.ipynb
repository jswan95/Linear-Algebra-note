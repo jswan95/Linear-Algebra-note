{
 "cells": [
  {
   "cell_type": "markdown",
   "metadata": {},
   "source": [
    "# Lecture 27: Complex Matrices; Fast Fourier Transform"
   ]
  },
  {
   "cell_type": "markdown",
   "metadata": {},
   "source": [
    "Reference    \n",
    "Lecture video: https://www.youtube.com/watch?v=M0Sa8fLOajA             \n",
    "Chinese note: https://nbviewer.jupyter.org/github/zlotus/notes-linear-algebra/blob/master/chapter27.ipynb "
   ]
  },
  {
   "cell_type": "markdown",
   "metadata": {},
   "source": [
    "**Main contents of this lecture:**\n",
    "* Complex vectors\n",
    "* Complex matrices\n",
    "* Fourier trarnsform\n",
    "* Fast Fourier transform\n",
    "    "
   ]
  },
  {
   "cell_type": "markdown",
   "metadata": {},
   "source": [
    "## Complex matrices"
   ]
  },
  {
   "cell_type": "markdown",
   "metadata": {},
   "source": [
    "Let's use $z = \\left[\\begin{array}{c}\n",
    "z_{1} \\\\\n",
    "z_{2} \\\\\n",
    "\\vdots \\\\\n",
    "z_{n}\n",
    "\\end{array}\\right]$ denoting a complex vectors and each component is a complex number. Thus $z$ is not in $\\mathbb{R}^n$ vector space but $\\mathbb{C}^n$ complex vector space. "
   ]
  },
  {
   "cell_type": "markdown",
   "metadata": {},
   "source": [
    "### Modulous of complex vectors"
   ]
  },
  {
   "cell_type": "markdown",
   "metadata": {},
   "source": [
    "How to calculate the modulous of real vectors? $|v|=\\sqrt{v^{T} v}$. But we can not use $\\sqrt{z^{T} z}$ to calculate the modulous of complex vectors because $z^{T} z=\\left[\\begin{array}{llll}z_{1} & z_{2} & \\cdots & z_{n}\\end{array}\\right]\\left[\\begin{array}{c}z_{1} \\\\ z_{2} \\\\ \\vdots \\\\ z_{n}\\end{array}\\right]=z_{1}^{2}+z_{2}^{2}+\\cdots+z_{n}^{2}$, where $z_i$ is complex numbers and the square of imaginary part is negative. For example, the square of $1+i$ is 0. \n",
    "\n",
    "Therefore, we should use the conjugate of complex vectors multiply itself:\n",
    "\n",
    "$|z|=\\sqrt{\\bar{z}^{T} z}$, where $\\left[\\begin{array}{llll}\n",
    "\\bar{z}_{1} & \\bar{z}_{2} & \\cdots & \\bar{z}_{n}\n",
    "\\end{array}\\right]\\left[\\begin{array}{c}\n",
    "z_{1} \\\\\n",
    "z_{2} \\\\\n",
    "\\vdots \\\\\n",
    "z_{n}\n",
    "\\end{array}\\right]$. For $1+i$, $\\left[\\begin{array}{ll}\n",
    "1 & -i\n",
    "\\end{array}\\right]\\left[\\begin{array}{l}\n",
    "1 \\\\\n",
    "i\n",
    "\\end{array}\\right]=2$.\n",
    "\n",
    "We write the transform conjugate operation as $Hermite, H$. Thus the length squared is denoted as $z^{H} z$."
   ]
  },
  {
   "cell_type": "markdown",
   "metadata": {},
   "source": [
    "### Inner product of complex vectors"
   ]
  },
  {
   "cell_type": "markdown",
   "metadata": {},
   "source": [
    "The inner product of two complex vectors $x,y$ is $y^{H} x$"
   ]
  },
  {
   "cell_type": "markdown",
   "metadata": {},
   "source": [
    "### Symmetry"
   ]
  },
  {
   "cell_type": "markdown",
   "metadata": {},
   "source": [
    "For real matrix, we say $A$ is symmetric if $A^{T}=A$. For complex matirx, the condition changes into $\\bar{A}^{T}=A$, which is $A^{H}=A$. For example, $\\left[\\begin{array}{cc}2 & 3+i \\\\ 3-i & 5\\end{array}\\right]$ is a symmetric complex matrix. "
   ]
  },
  {
   "cell_type": "markdown",
   "metadata": {},
   "source": [
    "### Perpendicular"
   ]
  },
  {
   "cell_type": "markdown",
   "metadata": {},
   "source": [
    "Real orthonormal vectors: $q_{i}^{T} q_{j}=\\left\\{\\begin{array}{ll}0 & i \\neq j \\\\ 1 & i=j\\end{array}\\right.$\n",
    "\n",
    "For orthonormal complex vectors: $\\bar{q}_{i}^{T} q_{j}=q_{i}^{H} q_{j}=\\left\\{\\begin{array}{ll}0 & i \\neq j \\\\ 1 & i=j\\end{array}\\right.$\n",
    "\n",
    "Real orthogonal matrix: $Q=\\left[\\begin{array}{llll}q_{1} & q_{2} & \\cdots & q_{n}\\end{array}\\right], Q^{\\top}Q = I$. \n",
    "\n",
    "For orthogonal complex matrix: $Q^{H} Q=I$. The conjugate transform operation of matrix is called unitary. Thus $Q^{H}$ is also called as `unitary matrix`. "
   ]
  },
  {
   "cell_type": "markdown",
   "metadata": {},
   "source": [
    "### Fourier matrix"
   ]
  },
  {
   "cell_type": "markdown",
   "metadata": {},
   "source": [
    "The $n\\times n$ Fourier matrix $F_{n}=\\left[\\begin{array}{ccccc}1 & 1 & 1 & \\cdots & 1 \\\\ 1 & w & w^{2} & \\cdots & w^{n-1} \\\\ 1 & w^{2} & w^{4} & \\cdots & w^{2(n-1)} \\\\ \\vdots & \\vdots & \\vdots & \\ddots & \\vdots \\\\ 1 & w^{n-1} & w^{2(n-1)} & \\cdots & w^{(n-1)^{2}}\\end{array}\\right]$, $\\left(F_{n}\\right)_{i j}=w^{i j} \\quad i, j=0,1,2, \\cdots, n-1$. $w$ satisfies $w^n = 1, w=e^{i 2 \\pi / n}$, which means that $w$ is on the unit circle in complex plane, $w=\\cos \\frac{2 \\pi}{n}+i \\sin \\frac{2 \\pi}{n}$. If n=6, then $w=e^{2 \\pi / 6}$， it's on the unit circle where the angle is $60^{\\circ}$, it's square on the unit circle where the angle is $120^{\\circ}$, $\\cdots$, $w^6$ comes back to 1. They are the six sixth root of 1 and we call the first one $w$ as primitive one. \n",
    "\n",
    "Now we see an example of $4\\times 4$ Fouier matrix $w=i, w^{2}=-1, w^{3}=-i, w^{4}=1$\n",
    "$$\n",
    "F_{4}=\\left[\\begin{array}{cccc}\n",
    "1 & 1 & 1 & 1 \\\\\n",
    "1 & i & i^{2} & i^{3} \\\\\n",
    "1 & i^{2} & i^{4} & i^{6} \\\\\n",
    "1 & i^{3} & i^{6} & i^{9}\n",
    "\\end{array}\\right]=\\left[\\begin{array}{cccc}\n",
    "1 & 1 & 1 & 1 \\\\\n",
    "1 & i & -1 & -i \\\\\n",
    "1 & -1 & 1 & -1 \\\\\n",
    "1 & -i & -1 & i\n",
    "\\end{array}\\right]\n",
    "$$\n",
    "The column vectors are orthogonal to each other. For example, the 2th column and the 4th column $\\bar{c_{2}}^{T} c_{4}=1-1+1-1=0$. But the column vectors are not orthonormal yet because their length is not 1. To get orthogonal matrix, we multiply $\\frac{1}{2}$:\n",
    "$$\n",
    "F_{4}=\\frac{1}{2}\\left[\\begin{array}{cccc}\n",
    "1 & 1 & 1 & 1 \\\\\n",
    "1 & i & -1 & -i \\\\\n",
    "1 & -1 & 1 & -1 \\\\\n",
    "1 & -i & -1 & i\n",
    "\\end{array}\\right] \\rightarrow F_{4}^{H} F_{4}=I\n",
    "$$\n",
    "\n",
    "Thus the inverse of  $F_{4}$ is $F_{4}^{H}$"
   ]
  },
  {
   "cell_type": "markdown",
   "metadata": {},
   "source": [
    "## Fast Fourier Transform"
   ]
  },
  {
   "cell_type": "markdown",
   "metadata": {},
   "source": [
    "For Fourier matrix, there is some connection between $F_{6}, F_{3}, F_{8}, F_{4}, F_{64}, F_{32}$. \n",
    "\n",
    "For example, a vector multiplying $F_{64}$ needs $64^2$ times computions, which is quite much. To reduce the computation cost, we want decompose $F_{64}$ using $F_{32}$:\n",
    "\n",
    "$$\n",
    "\\left[F_{64}\\right]=\\left[\\begin{array}{cc}\n",
    "I & D \\\\\n",
    "I & -D\n",
    "\\end{array}\\right]\\left[\\begin{array}{cc}\n",
    "F_{32} & 0 \\\\\n",
    "0 & F_{32}\n",
    "\\end{array}\\right]\\left[\\begin{array}{ccccccc}\n",
    "1 & \\cdots & & & 0 & & \\cdots & & \\\\\n",
    "0 & & \\cdots & & & 1 & & \\cdots & & \\\\\n",
    "& 1 & \\cdots & & & & 0 & \\cdots & & \\\\\n",
    "& 0 & \\cdots & & & & 1 & \\cdots & & \\\\\n",
    "& & & \\ddots & & & & & \\ddots & \\\\\n",
    "& & & & & & & & & & \\\\\n",
    "& & & \\ddots & & & & & \\ddots & \\\\\n",
    "& & & & & & & & \\cdots & 0 \\\\\n",
    "& & & \\cdots & 1 & & & & \\cdots & 0 \\\\\n",
    "& & & \\cdots & 0 & & & & \\cdots & 1\n",
    "\\end{array}\\right]\n",
    "$$\n",
    "\n",
    "* The first matrix composed of $I$ and diagonal matrix $D=\\left[\\begin{array}{lllll}1 & & & & \\\\ & w & & & \\\\ & & w^{2} & & \\\\ & & & \\ddots & \\\\ & & & & \\\\ & & & & & w^{31}\\end{array}\\right]$. It does not need so much computation (32). \n",
    "* The second matrix is composed of two $F_{32}$, its compuation needs $2 \\times 32^{2}$\n",
    "* The third usually denoted as $P$, which is a permutation matrix. Its role is to change $\\left[x_{0} x_{1} \\ldots\\right]$ into $\\left[x_{0} x_{2} \\ldots x_{1} x_{3} \\ldots\\right]$. See [How the FFT is computed](http://vmm.math.uci.edu/ODEandCM/PDF_Files/FFT_Appendix_K.pdf). \n",
    "\n",
    "Therefore, we have reduce the computaion cost from $64^2$ to $2 \\times 32^{2}+32$. Similarly, we can further decompose $F_{32}$ using $F_{16}$ and so on:\n",
    "\n",
    "$$\n",
    "\\left[\\begin{array}{cc}\n",
    "I_{32} & D_{32} \\\\\n",
    "I_{32} & -D_{32}\n",
    "\\end{array}\\right]\\left[\\begin{array}{cccc}\n",
    "I_{16} & D_{16} & & \\\\\n",
    "I_{16} & -D_{16} & & \\\\\n",
    "& & I_{16} & D_{16} \\\\\n",
    "& & I_{16} & -D_{16}\n",
    "\\end{array}\\right]\\left[\\begin{array}{cccc}\n",
    "F_{16} & & & \\\\\n",
    "& F_{16} & & \\\\\n",
    "& & F_{16} & \\\\\n",
    "& & & F_{16}\n",
    "\\end{array}\\right]\\left[\\begin{array}{ll}\n",
    "P_{16} & \\\\\n",
    "& P_{16}\n",
    "\\end{array}\\right]\\left[P_{32}\\right]\n",
    "$$\n",
    "\n",
    "Finally, we can get the 1 dimensional Fourier matrix. The total computation cost is $2\\left(2\\left(2\\left(2\\left(2\\left(2(1)^{2}+1\\right)+2\\right)+4\\right)+8\\right)+16\\right)+32$. It's around $6 \\times 32=\\log _{2} 64 \\times \\frac{64}{2}$. The complexity of this algorithm is $\\frac{n}{2} \\log _{2} n$. \n",
    "\n",
    "Originally, the complexity is $n^2$, now the complexity of FFT reduces to $\\frac{n}{2} \\log _{2} n$. When $n=1024$, the original computation cost is $n^{2}>1000000$, but the computation cost of FFT is only $\\frac{n}{2} \\log _{2} n=5 \\times 1024$."
   ]
  }
 ],
 "metadata": {
  "kernelspec": {
   "display_name": "Python 3",
   "language": "python",
   "name": "python3"
  },
  "language_info": {
   "codemirror_mode": {
    "name": "ipython",
    "version": 3
   },
   "file_extension": ".py",
   "mimetype": "text/x-python",
   "name": "python",
   "nbconvert_exporter": "python",
   "pygments_lexer": "ipython3",
   "version": "3.6.10"
  }
 },
 "nbformat": 4,
 "nbformat_minor": 4
}
