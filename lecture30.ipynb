{
 "cells": [
  {
   "cell_type": "markdown",
   "metadata": {},
   "source": [
    "# Lecture 30: Singular Value Decomposition"
   ]
  },
  {
   "cell_type": "markdown",
   "metadata": {},
   "source": [
    "Reference    \n",
    "Lecture video: https://www.youtube.com/watch?v=TX_vooSnhm8             \n",
    "Chinese note: https://nbviewer.jupyter.org/github/zlotus/notes-linear-algebra/blob/master/chapter30.ipynb "
   ]
  },
  {
   "cell_type": "markdown",
   "metadata": {},
   "source": [
    "This lecture we talk about SVD: $A=U \\Sigma V^{T}$. $U, V$ are orthogonal matrices, $\\Sigma$ is diagonal matrix. Compared to the decomposition we mentioned before, the two orthogonal matrices here usually are different, and this decomposition can be applied to any matrix. \n",
    "* A positive definite matrix can be decomposed as: $A=Q \\Lambda Q^{T}$. This is actually a special case of SVD \n",
    "* A diagonalizable matrix can be decomposed as: $A=S \\Lambda S^{T}$. But $S$ is not orthogonal matrix. \n",
    "\n",
    "What we want to do is finding a othornormal basis $v_{1}, v_{2}, \\cdots, v_{r}$ in the column space of $A$, and the basis transforms into a multiple of a orthornormal basis of $A$'s row space $u_{1}, u_{2}, \\cdots, u_{r}$. \n",
    "\n",
    "$$A\\left[v_{1} \\space v_{2} \\cdots v_{r}\\right]=\\left[\\sigma_{1} u_{1} \\space \\sigma_{2} u_{2} \\cdots \\sigma_{r} u_{r}\\right]=\\left[\\begin{array}{llll}u_{1} & u_{2} & \\cdots & u_{r}\\end{array}\\right]\\left[\\begin{array}{llll}\\sigma_{1} & & & \\\\ & \\sigma_{2} & & \\\\ & & \\ddots & \\\\ & & & & \\\\ & & & & \\sigma_{n}\\end{array}\\right]$$\n",
    "\n",
    "This is exactly : $A v_{1}=\\sigma_{1} u_{1}, A v_{2}=\\sigma_{2} u_{2}, \\cdots, A v_{r}=\\sigma_{r} u_{r}$, where $\\sigma$ is multiplying factor. The left null space and null space will show up zeros on the diagonal of $\\Sigma$. \n",
    "\n",
    "$$\n",
    "A\\left[v_{1} v_{2} \\cdots v_{r} \\space v_{r+1} \\cdots v_{m}\\right]=\\left[\\begin{array}{lllll}\n",
    "u_{1} & u_{2} & \\cdots & u_{r}\\space u_{r+1} & \\cdots & u_{n}\n",
    "\\end{array}\\right]\\left[\\begin{array}{cccc|c}\n",
    "\\sigma_{1} & & & \\\\\n",
    "& \\ddots & & \\\\\n",
    "& & & \\sigma_{r} & \\\\\n",
    "\\hline & & & &0\n",
    "\\end{array}\\right]\n",
    "$$\n",
    "\n",
    "The matrix form is:\n",
    "\n",
    "$$\n",
    "A V=U \\Sigma\n",
    "$$\n",
    "\n",
    "$U$ is $m\\times m$, $\\Sigma$ is $m\\times n$, $V^T$ is $n\\times n$. $A=U \\Sigma V^{-1}$. Since $V$ is orthorgonal matrix, thus $A=U \\Sigma V^{-1} = U \\Sigma V^{T}$. If $A$ is positive definite, $U$ and $V$ become $Q$. \n",
    "\n",
    "\n",
    "Next we solve an example: Given $A=\\left[\\begin{array}{cc}4 & 4 \\\\ -3 & 3\\end{array}\\right]$, we want to find\n",
    "* Orthonormal basis of row space $\\mathbb{R}^2$: $v_{1}, v_{2}$\n",
    "* Orthonormal basis of column space $\\mathbb{R}^2$: $u_{1}, u_{2}$\n",
    "* $\\sigma_{1}>0, \\sigma_{2}>0$\n",
    "\n",
    "There are two orthogonal matrices to solve in $A = U \\Sigma V^{T}$, how to solve them one by one? \n",
    "\n",
    "A trick is that we first compute: $A^{\\top}A$, then we have $A^{T} A=V \\Sigma^{T} U^{T} U \\Sigma V^{T}$. Because $U^{T} U=I$, $\\Sigma^{T} \\Sigma$ is a diagonal matrix with diagonal element squared. Thus now we have:\n",
    "$$A^{T} A=V\\left[\\begin{array}{cccc}\\sigma_{1} & & & \\\\ & \\sigma_{2} & & \\\\ & & \\ddots & \\\\ & & & \\sigma_{n}\\end{array}\\right] V^{T}$$\n",
    "\n",
    "Because $A^{\\top}A$ is symmetric (semi)positive definite, here $V$ is the eigenvector matrix and $\\Sigma^2$ is the eigenvalue matrix. \n",
    "\n",
    "Similarly, we can calculate $U$ by computing $AA^{\\top}$ to eliminate $V$. \n",
    "\n",
    "Now we show the calculating procedures using  the example $A=\\left[\\begin{array}{cc}4 & 4 \\\\ -3 & 3\\end{array}\\right]$. \n",
    "\n",
    "$A^{T} A=\\left[\\begin{array}{cc}4 & -3 \\\\ 4 & 3\\end{array}\\right]\\left[\\begin{array}{cc}4 & 4 \\\\ -3 & 3\\end{array}\\right]=\\left[\\begin{array}{cc}25 & 7 \\\\ 7 & 25\\end{array}\\right]$, $A^{T} A\\left[\\begin{array}{l}1 \\\\ 1\\end{array}\\right]=32\\left[\\begin{array}{l}1 \\\\ 1\\end{array}\\right], A^{T} A\\left[\\begin{array}{c}1 \\\\ -1\\end{array}\\right]=18\\left[\\begin{array}{c}1 \\\\ -1\\end{array}\\right]$\n",
    "\n",
    "Thus its eigenvectors are: $\\left[\\begin{array}{l}1 \\\\ 1\\end{array}\\right], \\left[\\begin{array}{c}1 \\\\ -1\\end{array}\\right]$. Eignevalues are 32, 18. The unit eigenvectors are : $\\left[\\begin{array}{c}\\frac{1}{\\sqrt{2}} \\\\ \\frac{1}{\\sqrt{2}}\\end{array}\\right], \\left[\\begin{array}{c}\\frac{1}{\\sqrt{2}} \\\\ -\\frac{1}{\\sqrt{2}}\\end{array}\\right]$. \n",
    "\n",
    "Until now, we have: $\\left[\\begin{array}{cc}4 & 4 \\\\ -3 & 3\\end{array}\\right]=\\left[\\begin{array}{cc}u_{?} & u_{?} \\\\ u_{?} & u_{?}\\end{array}\\right]\\left[\\begin{array}{cc}\\sqrt{32} & 0 \\\\ 0 & \\sqrt{18}\\end{array}\\right]\\left[\\begin{array}{cc}\\frac{1}{\\sqrt{2}} & \\frac{1}{\\sqrt{2}} \\\\ \\frac{1}{\\sqrt{2}} & -\\frac{1}{\\sqrt{2}}\\end{array}\\right]$. Next, we continue calculating $U$. \n",
    "\n",
    "$A A^{T}=U \\Sigma V^{T} V \\Sigma^{T} U^{T}=U \\Sigma^{2} U^{T} = \\left[\\begin{array}{cc}32 & 0 \\\\ 0 & 18\\end{array}\\right]$. It is easy to obtain a set of eigenvectors: $A A^{T}\\left[\\begin{array}{l}1 \\\\ 0\\end{array}\\right]=32\\left[\\begin{array}{l}1 \\\\ 0\\end{array}\\right], A A^{T}\\left[\\begin{array}{l}0 \\\\ 1\\end{array}\\right]=18\\left[\\begin{array}{l}0 \\\\ 1\\end{array}\\right]$. But we can not directly use $\\left[\\begin{array}{l}1 \\\\ 0\\end{array}\\right], \\left[\\begin{array}{l}0 \\\\ 1\\end{array}\\right]$ because $U$ should satisfy $A v_{2}=\\left[\\begin{array}{c}0 \\\\ -\\sqrt{18}\\end{array}\\right]=u_{2} \\sigma_{2}=\\left[\\begin{array}{c}0 \\\\ -1\\end{array}\\right] \\sqrt{18}$. Thus $U = \\left[\\begin{array}{rr}1 & 0 \\\\ 0 & -1\\end{array}\\right]$ . \n",
    "\n",
    "Finally we get: \n",
    "\n",
    "$\\left[\\begin{array}{cc}4 & 4 \\\\ -3 & 3\\end{array}\\right]=\\left[\\begin{array}{cc}1 & 0 \\\\ 0 & -1\\end{array}\\right]\\left[\\begin{array}{cc}\\sqrt{32} & 0 \\\\ 0 & \\sqrt{18}\\end{array}\\right]\\left[\\begin{array}{cc}\\frac{1}{\\sqrt{2}} & \\frac{1}{\\sqrt{2}} \\\\ \\frac{1}{\\sqrt{2}} & -\\frac{1}{\\sqrt{2}}\\end{array}\\right]$\n",
    "\n",
    "Remark:\n",
    "* $AB$ and $BA$ have the same eigenvalue. $\\lambda B v=B(A B v)=(B A) B v$. The eigenvalue are the same, but the eigenvector changes. \n",
    "\n",
    "Let's see an example $A=\\left[\\begin{array}{ll}4 & 3 \\\\ 8 & 6\\end{array}\\right]$ whose rank is $1$. \n",
    "* Unit basis vectors of row and column spaces are: $v_{1}=\\left[\\begin{array}{l}0.8 \\\\ 0.6\\end{array}\\right], u_{1}=\\frac{1}{\\sqrt{5}}\\left[\\begin{array}{l}1 \\\\ 2\\end{array}\\right]$\n",
    "* $A^{T} A=\\left[\\begin{array}{ll}4 & 8 \\\\ 3 & 6\\end{array}\\right]\\left[\\begin{array}{ll}4 & 3 \\\\ 8 & 6\\end{array}\\right]=\\left[\\begin{array}{ll}80 & 60 \\\\ 60 & 45\\end{array}\\right]$ is not full rank, thus one of its eigenvalue is 0. According to the trace, its other eigenvalue is 125. \n",
    "* The basis vectors for the left null space and null space is $v_{2}=\\left[\\begin{array}{c}0.6 \\\\ -0,8\\end{array}\\right], u_{2}=\\frac{1}{\\sqrt{5}}\\left[\\begin{array}{c}2 \\\\ -1\\end{array}\\right]$\n",
    "\n",
    "Finally we get: $\\left[\\begin{array}{ll}4 & 3 \\\\ 8 & 6\\end{array}\\right]=\\left[\\begin{array}{cc}1 & \\underline{2} \\\\ 2 & \\underline{-1}\\end{array}\\right]\\left[\\begin{array}{cc}\\sqrt{125} & 0 \\\\ 0 & \\underline{0}\\end{array}\\right]\\left[\\begin{array}{cc}0.8 & 0.6 \\\\ 0.6 & \\underline{-0.8}\\end{array}\\right]$. The underlined part is associated with null space. \n",
    "\n",
    "* $v_{1}, \\cdots, v_{r}$ is an orthonormal basis for the row space \n",
    "* $u_{1}, \\cdots, u_{r}$ is an orthonormal basis for the column space\n",
    "* $v_{r+1}, \\cdots, v_{n}$ is an orthonormal basis for the null space\n",
    "* $u_{r+1}, \\cdots, u_{m}$ is an orthonormal basis for the left null space \n",
    "\n",
    "$A v_{i}=\\sigma_{i} u_{i}$. "
   ]
  },
  {
   "cell_type": "code",
   "execution_count": null,
   "metadata": {},
   "outputs": [],
   "source": []
  }
 ],
 "metadata": {
  "kernelspec": {
   "display_name": "Python 3",
   "language": "python",
   "name": "python3"
  },
  "language_info": {
   "codemirror_mode": {
    "name": "ipython",
    "version": 3
   },
   "file_extension": ".py",
   "mimetype": "text/x-python",
   "name": "python",
   "nbconvert_exporter": "python",
   "pygments_lexer": "ipython3",
   "version": "3.6.10"
  }
 },
 "nbformat": 4,
 "nbformat_minor": 4
}
