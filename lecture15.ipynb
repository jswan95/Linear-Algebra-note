{
 "cells": [
  {
   "cell_type": "markdown",
   "metadata": {},
   "source": [
    "# Lecture 15: Projections onto Subspaces"
   ]
  },
  {
   "cell_type": "markdown",
   "metadata": {},
   "source": [
    "Reference    \n",
    "Lecture video: https://www.youtube.com/watch?v=Y_Ac6KiQ1t0            \n",
    "Chinese note: https://nbviewer.jupyter.org/github/zlotus/notes-linear-algebra/blob/master/chapter15.ipynb  "
   ]
  },
  {
   "cell_type": "markdown",
   "metadata": {},
   "source": [
    "First see an example in $\\mathbb{R}^2$, vector $b$ is projected onto vector $b$ and the projection is $p$. "
   ]
  },
  {
   "cell_type": "code",
   "execution_count": 4,
   "metadata": {},
   "outputs": [
    {
     "data": {
      "image/png": "[encoded data removed]",
      "text/plain": [
       "<Figure size 432x288 with 1 Axes>"
      ]
     },
     "metadata": {
      "needs_background": "light"
     },
     "output_type": "display_data"
    }
   ],
   "source": [
    "%matplotlib inline\n",
    "import matplotlib.pyplot as plt\n",
    "import numpy as np\n",
    "import pandas as pd\n",
    "\n",
    "plt.style.use(\"seaborn-dark-palette\")\n",
    "\n",
    "fig = plt.figure()\n",
    "plt.axis('equal')\n",
    "plt.axis([-7, 7, -6, 6])\n",
    "plt.arrow(-4, -1, 8, 2, head_width=0.3, head_length=0.5, color='r', length_includes_head=True)\n",
    "plt.arrow(0, 0, 2, 4, head_width=0.3, head_length=0.5, color='b', length_includes_head=True)\n",
    "plt.arrow(0, 0, 48/17, 12/17, head_width=0.3, head_length=0.5, color='gray', length_includes_head=True)\n",
    "plt.arrow(48/17, 12/17, 2-48/17, 4-12/17, head_width=0.3, head_length=0.5, color='g', length_includes_head=True)\n",
    "# plt.plot([48/17], [12/17], 'o')\n",
    "# y=1/4x\n",
    "# y=-4x+12\n",
    "# x=48/17\n",
    "# y=12/17\n",
    "plt.annotate('b', xy=(1, 2), xytext=(-30, 15), textcoords='offset points', size=20, arrowprops=dict(arrowstyle=\"->\"))\n",
    "plt.annotate('a', xy=(-1, -0.25), xytext=(15, -30), textcoords='offset points', size=20, arrowprops=dict(arrowstyle=\"->\"))\n",
    "plt.annotate('e=b-p', xy=(2.5, 2), xytext=(30, 0), textcoords='offset points', size=20, arrowprops=dict(arrowstyle=\"->\"))\n",
    "plt.annotate('p=xa', xy=(2, 0.5), xytext=(-20, -40), textcoords='offset points', size=20, arrowprops=dict(arrowstyle=\"->\"))\n",
    "plt.grid()"
   ]
  },
  {
   "cell_type": "markdown",
   "metadata": {},
   "source": [
    "According to the above figure, we can consider $e = b -p$ as the error between $b$ and $p$, $e\\perp p$. Because $p$ is on $a$, thus $p = xa$\n",
    "\n",
    "We have:\n",
    "\n",
    "$$\n",
    "a^{T} e=a^{T}(b-p)=a^{T}(b-a x)=0\\\\\n",
    "a^{T}(b-x a)=0 \\\\\n",
    "x a^{T} a=a^{T} b\\\\\n",
    "{x=\\frac{a^{T} b}{a^{T} a}}\\\\\n",
    "{p=a \\frac{a^{T} b}{a^{T} a}}\n",
    "$$\n",
    "\n",
    "From the above equations,we can see that if $b$ becomes $2b$, $p$ will also becomes $2p$. But if $a$ becomes $2a$, $p$ does not change.\n",
    "\n",
    "Suppose $P$ is denoted as `projection matrix`, its role is transforming some vector to a projection: \n",
    "\n",
    "$$projection = Pb$$\n",
    "\n",
    "In the above example, $P = \\frac{a a^{T}}{a^{T} a}$. If $a \\in \\mathbb{R}^n$, then $P$ is a $n\\times n$ matrix. \n",
    "\n",
    "In the above example, we can see that the column space of $P, \\operatorname{C}(P)$ is a line through $a$. Thus the rank of $P,\\operatorname{rank}(P) = 1$. \n",
    "\n",
    "Here are two important properties of projection matrix:\n",
    "* $P = P^{\\top}$, projection matrix is symmetric\n",
    "* $PPb = Pb \\Longrightarrow P^2=P$, projecting twice is the same as projecting once. "
   ]
  },
  {
   "cell_type": "markdown",
   "metadata": {},
   "source": [
    "Why do we want his projection?\n",
    "\n",
    "As mentioned in last lecture, sometimes $Ax=b$ has no solutions, what can do is finding the best possible solution. $Ax$ is always in the column space of $A$, but $b$ may not be. Thus we transform $b$ into the closest vector in $A$'s column space, which turns $Ax=b$ into $A\\hat{x} =p$. Here $p$ is the projection of $b$ in $A$'s column space. $\\hat{x}$ is the best possible solution.\n",
    "\n",
    "Similarly,let's consider the $\\mathbb{R}^3$ case, vector $b$ is projected onto plane $A$, $p$ is the projection of $b$ on $A$, $e$ is perpendicular to $A$. Suppose a basis of $A$ is $a_1, a_2$, then the projection vector $p$ can be written as: $p = A\\hat{x} = \\hat{x_1}a_1 + \\hat{x_2}a_2$. If we find $\\hat{x}$, then it is the best possible solution of $Ax=b$. \n",
    "\n",
    "We have $e = b-A\\hat{x}$. Because $e$ is perpenduclar to plane $A$, thus we have:\n",
    "$$\n",
    "\\left\\{\\begin{aligned}\n",
    "a_{1}^{T}(b-A \\hat{x}) &=0 \\\\\n",
    "a_{2}^{T}(b-A \\hat{x}) &=0\n",
    "\\end{aligned}\\right. \\Longrightarrow \\left[\\begin{array}{c}\n",
    "a_{1}^{T} \\\\\n",
    "a_{2}^{T}\n",
    "\\end{array}\\right](b-A \\hat{x})=\\left[\\begin{array}{l}\n",
    "0 \\\\\n",
    "0\n",
    "\\end{array}\\right] \\Longrightarrow A^{\\top} \\underbrace{(b-A \\hat{x})}_{e}=0\n",
    "$$\n",
    "\n",
    "Comparing with the case in $\\mathbb{R}^2$, we can see that the difference is just $a$ has been changed into $A$. Here we have $A^{\\top}e =0$, which indicates that $e$ is in the null space of $A^{\\top}, e\\in \\operatorname{N}(A^{\\top})$. In previous lectures, we have mentioned that left null space is orthogonal to column space. Here we have that $e$ is perpendicular to the column space of $A$, which is consistent with what we learned in previous lectures. \n",
    "\n",
    "By rewritting $A^{\\top} (b-A \\hat{x})=0$,we have:\n",
    "\n",
    "$$A^{\\top}Ax = A^{\\top}b$$\n",
    "\n",
    "In $\\mathbb{R}^2$ case, $a^{\\top}a$ is a scaler, but here $A^{\\top}A$ is a $n$ dimensional square matrix. Similarly, we need to study three questions here: $\\hat{x}$, projection, projection matrix.\n",
    "\n",
    "* $\\hat{x} =\\left(A^{T} A\\right)^{-1} A^{T} b $\n",
    "* $p = A\\hat{x} = A\\left(A^{T} A\\right)^{-1} A^{T} b$\n",
    "* $P= A\\left(A^{T} A\\right)^{-1} A^{T}$\n",
    "\n",
    "We can not futher reduce like this:\n",
    "\n",
    "$$P= A\\left(A^{T} A\\right)^{-1} A^{T} = A A^{-1}\\left(A^{T}\\right)^{-1} A^{T}=I$$\n",
    "\n",
    "Because $A$ is not a invertible square matrix. If $A$ is an invertible square matrix, then the column space of $A$ is the whole vector space, $\\mathbb{R}^3$ in our example. Then the projection of $b$ is itself, that's why the projection matrix becomes identity matrix. \n",
    "\n",
    "Still, the projection matrix here also satisfies the following two important properties.\n",
    "* $P = P^{\\top}$\n",
    "    * proof: $\\left[A\\left(A^{T} A\\right)^{-1} A^{T}\\right]^{T}=A\\left[\\left(\\underbrace{A^{T} A}_\\text{symmetric}\\right)^{-1}\\right]^{T} A^{T} = A\\left(A^{T} A\\right)^{-1} A^{T}$\n",
    "* $P^2 = P$\n",
    "    * proof: $\\left[A\\left(A^{T} A\\right)^{-1} A^{T}\\right]\\left[A\\left(A^{T} A\\right)^{-1} A^{T}\\right]=A\\left(A^{T} A\\right)^{-1}\\left[\\left(A^{T} A\\right)\\left(A^{T} A\\right)^{-1}\\right] A^{T} =  A\\left(A^{T} A\\right)^{-1} A^{T} $"
   ]
  },
  {
   "cell_type": "markdown",
   "metadata": {},
   "source": [
    "## Least squares fitting by a line"
   ]
  },
  {
   "cell_type": "markdown",
   "metadata": {},
   "source": [
    "Next, we will see an application of projecting: least squares fitting by a line.\n",
    "\n",
    "Suppose we want find a line that has least error to three points (1, 1), (2, 2), (3, 2): $b = C+Dt$."
   ]
  },
  {
   "cell_type": "code",
   "execution_count": 5,
   "metadata": {},
   "outputs": [
    {
     "data": {
      "image/png": "[encoded data removed]",
      "text/plain": [
       "<Figure size 432x288 with 1 Axes>"
      ]
     },
     "metadata": {
      "needs_background": "light"
     },
     "output_type": "display_data"
    }
   ],
   "source": [
    "plt.style.use(\"seaborn-dark-palette\")\n",
    "\n",
    "fig = plt.figure()\n",
    "plt.axis('equal')\n",
    "plt.axis([-1, 4, -1, 3])\n",
    "plt.axhline(y=0, c='black', lw='2')\n",
    "plt.axvline(x=0, c='black', lw='2')\n",
    "\n",
    "plt.plot(1, 1, 'o', c='r')\n",
    "plt.plot(2, 2, 'o', c='r')\n",
    "plt.plot(3, 2, 'o', c='r')\n",
    "\n",
    "plt.annotate('(1, 1)', xy=(1, 1), xytext=(-40, 20), textcoords='offset points', size=14, arrowprops=dict(arrowstyle=\"->\"))\n",
    "plt.annotate('(2, 2)', xy=(2, 2), xytext=(-60, -5), textcoords='offset points', size=14, arrowprops=dict(arrowstyle=\"->\"))\n",
    "plt.annotate('(3, 2)', xy=(3, 2), xytext=(-18, 20), textcoords='offset points', size=14, arrowprops=dict(arrowstyle=\"->\"))\n",
    "\n",
    "plt.grid()"
   ]
  },
  {
   "cell_type": "markdown",
   "metadata": {},
   "source": [
    "According to the three points we have:\n",
    "$$\n",
    "\\left\\{\\begin{array}{l}\n",
    "C+D=1 \\\\\n",
    "C+2 D=2 \\\\\n",
    "C+3 D=2\n",
    "\\end{array}\\right. \\Longrightarrow \\left[\\begin{array}{ll}\n",
    "1 & 1 \\\\\n",
    "1 & 2 \\\\\n",
    "1 & 3\n",
    "\\end{array}\\right]\\left[\\begin{array}{l}\n",
    "C \\\\\n",
    "D\n",
    "\\end{array}\\right]=\\left[\\begin{array}{l}\n",
    "1 \\\\\n",
    "2 \\\\\n",
    "2\n",
    "\\end{array}\\right]$$\n",
    "\n",
    "This is the form that we are familar with $Ax = b$. Obviously, there is no exact solution for the above equations. But,we can solve $A^{\\top} A\\hat{x} = A^{\\top}b$ to find the best possible solution such that the the line has least distance error to the three points. \n",
    "\n",
    "In the next lecture, we will see the details of this. "
   ]
  }
 ],
 "metadata": {
  "kernelspec": {
   "display_name": "Python 3",
   "language": "python",
   "name": "python3"
  },
  "language_info": {
   "codemirror_mode": {
    "name": "ipython",
    "version": 3
   },
   "file_extension": ".py",
   "mimetype": "text/x-python",
   "name": "python",
   "nbconvert_exporter": "python",
   "pygments_lexer": "ipython3",
   "version": "3.6.10"
  }
 },
 "nbformat": 4,
 "nbformat_minor": 4
}
