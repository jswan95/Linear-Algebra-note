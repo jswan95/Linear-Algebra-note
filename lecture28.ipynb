{
 "cells": [
  {
   "cell_type": "markdown",
   "metadata": {},
   "source": [
    "# Lecture 28: Positive Definite Matrices and Minima"
   ]
  },
  {
   "cell_type": "markdown",
   "metadata": {},
   "source": [
    "Reference    \n",
    "Lecture video: https://www.youtube.com/watch?v=vF7eyJ2g3kU             \n",
    "Chinese note: https://nbviewer.jupyter.org/github/zlotus/notes-linear-algebra/blob/master/chapter28.ipynb "
   ]
  },
  {
   "cell_type": "markdown",
   "metadata": {},
   "source": [
    "**Main contnets of this lecture:**\n",
    "* How to test if a matrix is positive definite\n",
    "* Test if $x^{\\top} A x$ have minima\n",
    "* The geometic meaning of positive definiteness\n",
    "\n",
    "Note that: all the matrices talked in this lecture are real symmetric matrices"
   ]
  },
  {
   "cell_type": "markdown",
   "metadata": {},
   "source": [
    "Let's start with 2 dimensional example, for matrix $A=\\left[\\begin{array}{ll}a & b \\\\ b & d\\end{array}\\right]$, there are four ways to test if it is positive definite:\n",
    "\n",
    "1. If all eigenvalues are larger than 0: $\\lambda_{1}>0, \\lambda_{2}>0$\n",
    "2. All the leading principal submatrix's determinants are larger than 0:  $a>0, a c-b^{2}>0$\n",
    "3. Pivots are larger than 0: $a>0, \\frac{a c-b^{2}}{a}>0$\n",
    "4. $x^{\\top} A x>0$, except $x=0$\n",
    "\n",
    "Usually, the fourth is used to define the positive definiteness. The first three are used to test the positive definiteness. \n",
    "\n",
    "Let's see an example: $A=\\left[\\begin{array}{ll}2 & 6 \\\\ 6 & ?\\end{array}\\right]$. What \"?\" should be to make the matrix symmetric. \n",
    "* If $?=18$, $A=\\left[\\begin{array}{cc}2 & 6 \\\\ 6 & 18\\end{array}\\right], \\operatorname{det} A=0$. We call this matrix `positive semi-definite`. Since now $A$ is singular, 0 must be one of its eigenvalues, according to the its trace is 20, we can obtain its other eigenvalue which is 20. $A$ has only one pivot, 2. Let's compute $x^{\\top} A x$,  $\\left[\\begin{array}{ll}x_{1} & x_{2}\\end{array}\\right]\\left[\\begin{array}{cc}2 & 6 \\\\ 6 & 18\\end{array}\\right]\\left[\\begin{array}{l}x_{1} \\\\ x_{2}\\end{array}\\right]=2 x_{1}^{2}+12 x_{1} x_{2}+18 x_{2}^{2}$. We can get a quaratic function about $x_1, x_2$, $f\\left(x_{1}, x_{2}\\right)=2 x_{1}^{2}+12 x_{1} x_{2}+18 x_{2}^{2} \\ge 0$. \n",
    "\n",
    "* If $?=7$， $A=\\left[\\begin{array}{ll}2 & 6 \\\\ 6 & 7\\end{array}\\right]$， it has a negative pivot and its determinants is negative. Thus it is not positive definite. $f\\left(x_{1}, x_{2}\\right)=2 x_{1}^{2}+12 x_{1} x_{2}+7 x_{2}^{2}$. If $x_{1}=1, x_{2}=-1$, $f(1,-1)=2-12+7<0$. If we draw the graph of $z=2 x^{2}+12 x y+7 y^{2}$, the function it goes through the origin. If $y=0$ or $x=0$ or $x=y$, it is a parabola going up, and function values are positive. But if $x=-y$, the function values will be negative, it goes down. In fact the original point is a saddle point. The perfect directions to look are the eigenvector directions. \n",
    "\n",
    "* How about if $?=20$, $A=\\left[\\begin{array}{cc}2 & 6 \\\\ 6 & 20\\end{array}\\right]$. Then $\\operatorname{det} A=4$ which is the product of eigenvalues, $\\operatorname{trace}(A)=22$ which is the sum of eigenvalues. Thus both of the eigenvalues are positive. In this case,  $f\\left(x_{1}, x_{2}\\right)=2 x_{1}^{2}+12 x_{1} x_{2}+20 x_{2}^{2}$. If we draw the graph of  $z=2 x^{2}+12 x y+20 y^{2}$, it is a paraboloid like a bowl. (0,0,0) is a minimum point. At (0, 0,0), the first order partial derivative are 0, but the second order partial derivative are positive (the saddle case above, its first order derivative are 0, but its second order derivative are not positive). \n",
    "\n",
    "    In calculous, the minima requirement is that $\\frac{\\mathrm{d} u}{\\mathrm{~d} x}=0, \\frac{\\mathrm{d}^{2} u}{\\mathrm{~d} x^{2}}>0$. In linear algebra, we encounters multivariable functions $f\\left(x_{1}, x_{2}, \\cdots, x_{n}\\right)$. At the minima, the matrix of 2nd derivative should be positive. \n",
    "    \n",
    "    To easily check if the functions are always positive, we can rewirte the function as:\n",
    "$$f(x, y)=2 x^{2}+12 x y+20 y^{2}=2(x+3 y)^{2}+2 y^{2}, \\text {if ? = 20}$$\n",
    "$$\n",
    "f(x, y)=2(x+3 y)^{2}-11 y^{2}, \\text {if ? = 7}\n",
    "$$\n",
    "$$\n",
    "f(x, y)=2(x+3 y)^{2}, \\text{if ?=18}\n",
    "$$\n",
    "\n",
    "    If $z = 1$, it is like cutting a plane, then we get a curve whihc is a ellipse for the case $? = 20, 2(x+3 y)^{2}+2 y^{2}=1$. If cuts the plane for the case $?=7$, we will get a hyperbola. \n",
    "    \n",
    "    In fact the coefficient appeared in the $f(x, y)=2(x+3 y)^{2}+2 y^{2}$ can be obtained from the elimination. $$\n",
    "\\left[\\begin{array}{cc}\n",
    "2 & 6 \\\\\n",
    "6 & 20\n",
    "\\end{array}\\right]=\\left[\\begin{array}{cc}\n",
    "1 & 0 \\\\\n",
    "\\underline 3 & 1\n",
    "\\end{array}\\right]\\left[\\begin{array}{ll}\n",
    "\\underline 2 & 6 \\\\\n",
    "0 & \\underline 2\n",
    "\\end{array}\\right]\n",
    "$$\n",
    "\n",
    "    The pivots are the coefficient of the two square terms, that's why positive pivot produces positive definite matrix. \n",
    "    \n",
    "    The second order derivative matrix is $\n",
    "\\left[\\begin{array}{ll}\n",
    "f_{x x} & f_{x y} \\\\\n",
    "f_{y x} & f_{y y}\n",
    "\\end{array}\\right]\n",
    "$. Obviously, the diagonal element must be positive and they should be large enough to overcome the cross derivative. The second order derivative matrix is also symmetric because the order of derivative does not matter for the cross derivative. \n",
    "\n",
    "\n",
    "Now we see a 3 dimensional example: $A=\\left[\\begin{array}{ccc}2 & -1 & 0 \\\\ -1 & 2 & -1 \\\\ 0 & -1 & 2\\end{array}\\right]$. Is it positive definite? What is  $x^{T} A x$? Is the origin a minima of the function? What's the graph. \n",
    "* The determinant of all leading principal submatrix's determinant are positive: 2, 3, 4. Thus it is positive definite. Its pivot is  $2, \\frac{3}{2}, \\frac{4}{3}$. The eigenvalues are: $\\lambda_{1}=2-\\sqrt{2}, \\lambda_{2}=2, \\lambda_{3}=2+\\sqrt{2}$\n",
    "* $x^{T} A x=2 x_{1}^{2}+2 x_{2}^{2}+2 x_{3}^{2}-2 x_{1} x_{2}-2 x_{2} x_{3}$\n",
    "* The graph is a 4 dimensional paraboloid. If we cutting it at $f\\left(x_{1}, x_{2}, x_{3}\\right)=1$, we will get a ellipsoid. Eivenvalues and engienvectors determined the shape of ellipsoid. \n",
    "\n",
    "Now we decompose matrix $A$ as $A=Q \\Lambda Q^{T}$, which we call it `principal axes theorem`. We can see that the eigenvectors tell us the direction of the axes and the eigenvalues tell us the lengths of those axes. "
   ]
  }
 ],
 "metadata": {
  "kernelspec": {
   "display_name": "Python 3",
   "language": "python",
   "name": "python3"
  },
  "language_info": {
   "codemirror_mode": {
    "name": "ipython",
    "version": 3
   },
   "file_extension": ".py",
   "mimetype": "text/x-python",
   "name": "python",
   "nbconvert_exporter": "python",
   "pygments_lexer": "ipython3",
   "version": "3.6.10"
  }
 },
 "nbformat": 4,
 "nbformat_minor": 4
}
