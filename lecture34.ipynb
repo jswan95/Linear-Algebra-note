{
 "cells": [
  {
   "cell_type": "markdown",
   "metadata": {},
   "source": [
    "# Lecture 34: Left and Right Inverses; Pseudoinverse"
   ]
  },
  {
   "cell_type": "markdown",
   "metadata": {},
   "source": [
    "Reference    \n",
    "Lecture video: https://www.youtube.com/watch?v=Go2aLo7ZOlU             \n",
    "Chinese note: https://nbviewer.jupyter.org/github/zlotus/notes-linear-algebra/blob/master/chapter34.ipynb    \n",
    "Official summary: https://ocw.mit.edu/courses/mathematics/18-06sc-linear-algebra-fall-2011/positive-definite-matrices-and-applications/left-and-right-inverses-pseudoinverse/MIT18_06SCF11_Ses3.8sum.pdf   "
   ]
  },
  {
   "cell_type": "markdown",
   "metadata": {},
   "source": [
    "## Left Inverse"
   ]
  },
  {
   "cell_type": "markdown",
   "metadata": {},
   "source": [
    "If a matrix has full column rank, the column vectors are independent. Usually the full column rank matrix $A$ satisfies $m>n=\\operatorname{rank}(A)$. \n",
    "\n",
    "If a matrix has full column rank, its null space has only one element: 0 vector.  Equation $Ax = b$ possibly has only one solution which is the case when $b$ is in the column space of $A$.  Otherwise, $Ax=b$ has no solution. \n",
    "\n",
    "In this case, the $A^{\\top}A$ produces a $n\\times$ full rank matrix. Thus $A^{\\top}A$ is an invertible matrix: $\\underbrace{\\left(A^{T} A\\right)^{-1} A^{T}}_\\text{left inverse} A=I$. We define: $$\n",
    "A_{l e f t}^{-1}=\\left(A^{T} A\\right)^{-1} A^{T}\n",
    "$$\n",
    "\n",
    "In the Least Squares lecture, we solve equation: $\n",
    "A^{T} A \\hat{x}=A^{T} b\n",
    "$. $\n",
    "\\hat{x}=\\left(A^{T} A\\right)^{-1} A^{T} b\n",
    "$. The projection is $\n",
    "p=A \\hat{x}=\\underbrace{A\\left(A^{T} A\\right)^{-1} A^{T}\n",
    "}_\\text{projection matrix}b$. The projection matrix is obtained by $P = A A_{l e f t}^{-1}$\n",
    "\n",
    "As for $AA^{\\top}$,, it is a $m\\times m$ matrix whose rank is $n < m$ thus it is not invertible. "
   ]
  },
  {
   "cell_type": "markdown",
   "metadata": {},
   "source": [
    "## Right Inverse"
   ]
  },
  {
   "cell_type": "markdown",
   "metadata": {},
   "source": [
    "Right invers is for the case when $A$ has full row rank where $n>m=rank(A)$. Thus $A^{\\top}$ has only zero vector in its null space. \n",
    "\n",
    "If $A$ has full row rank, equation $Ax=b$ always has solutions with $n-m$ free variables. Thus the dimension of the solution space is $n-m$. \n",
    "\n",
    "For $AA^{\\top}$, where $n>m=rank(A)$, we obtain a $m\\times m$ full rank matrix. Thus $AA^{\\top}$ is invertible. $A\\underbrace{A^{T}\\left(A A^{T}\\right)^{-1}}_\\text{right inverse}=I$. We define: \n",
    "$$A_{\\text {right }}^{-1}=A^{T}\\left(A A^{T}\\right)^{-1}$$\n",
    "\n",
    "Similarly, if multiply $A$ on the right side of $A_{\\text {right }}^{-1}$,, we also obtian a projection matrix: $P=A^{T}\\left(A A^{T}\\right) A$. But the difference with the above case is that it projects $b$ into the row space of $A$. "
   ]
  },
  {
   "cell_type": "markdown",
   "metadata": {},
   "source": [
    "## Pseudo Inverse"
   ]
  },
  {
   "cell_type": "markdown",
   "metadata": {},
   "source": [
    "For $m\\times n$ matrix $A$, suppose  $\\operatorname{rank}(A)<\\min (m, n)$. Then:\n",
    "* Column space $C(A)\\in R^m $, dim $C(A) = r$, left null space $ N(A^{\\top})\\in R^{m}$, dim $N(A^{\\top}) = m - r$ \n",
    "* Row space $C(A^{\\top})\\in R^n $, dim $C(A^{\\top}) = r$, null space $ N(A)\\in R^{n}$, dim $N(A) = n - r$\n",
    "\n",
    "Now for every vector $x$, $Ax$ must be in the column space of $A$. Since $x \\in R^{n}, Ax\\in R^{m}$, we can infer that all the $x$ comes from the row space of $A$. All the output vector $Ax$ comes from the column space. The transformation is one-to-one from $r$ dimemnsional subspace $R^{n}$ to the $r$ dimemnsional subspace $R^{m}$. \n",
    "\n",
    "Now we only consider row space and column space. We choose any two vectors $x, y$ from the row space of $A$. Then we must have $Ax\\neq Ay$. From row space to column space, $A$ is quite \"good\", it can be considered as \"invertible\". We call its reverse as `Pseudo inverse`. The function of the Pseudo inverse is transforming the vectors in column space into row space. We denote it as $A^{+}$. \n",
    "\n",
    "How to prove $x, y \\in C\\left(A^{T}\\right), x \\neq y,$ then $A x, A y \\in C(A), A x \\neq A y:$\n",
    "\n",
    "* Suppose $Ax = Ay$ ,then $A(x-y) = 0$, thus vector $x-y$ is in the null space of $A$. \n",
    "* Because $x, y \\in C(A^{\\top})$, then $x-y$ is also in $C(A^{\\top})$. \n",
    "* There is only one such vector which is 0 vector. Therefore $x-y = 0 \\Longrightarrow x=y$ which leads to a contradiction.  "
   ]
  },
  {
   "cell_type": "markdown",
   "metadata": {},
   "source": [
    "How to calculate $A^{+} ?$\n",
    "\n",
    "One way is using SVD, $A=U \\Sigma V^{T}$, $\\Sigma=\\left[\\begin{array}{lllll}\\sigma_{1} & & & \\\\ & \\ddots & & \\\\ & & \\sigma_{2} & \\\\  & & & {[0]}\\end{array}\\right]$, the nonzero part comes from the $A^{\\top}, AA^{\\top}$ zero part comes from left/null space. \n",
    "\n",
    "Suppose $rank(\\Sigma) =r$, then $\\Sigma^{+}=\\left[\\begin{array}{cccccc}\\frac{1}{\\sigma_{1}} & & & & \\\\ & \\ddots & & \\\\ & & & \\frac{1}{\\sigma_{r}} & \\\\ & & & & {[0]}\\end{array}\\right]$. Thus we have \n",
    "\n",
    "$$\n",
    "\\Sigma\\Sigma^{+} =\n",
    "\\left[\\begin{array}{lll}\n",
    "1 & & & \\\\\n",
    "& \\ddots & & \\\\\n",
    "& & 1 & \\\\\n",
    " & & & {[0]}\n",
    "\\end{array}\\right]_{m \\times m}, \\Sigma^{+} \\Sigma=\\left[\\begin{array}{llll}\n",
    "1 & & & \\\\\n",
    "& \\ddots & & \\\\\n",
    "& & 1 & \\\\\n",
    "& & & {[0]}\n",
    "\\end{array}\\right]_{n \\times n}\n",
    "$$\n",
    "\n",
    "Finally: $$\n",
    "A^{+} = V \\Sigma^{+} U^{T}\n",
    "$$"
   ]
  }
 ],
 "metadata": {
  "kernelspec": {
   "display_name": "Python 3",
   "language": "python",
   "name": "python3"
  },
  "language_info": {
   "codemirror_mode": {
    "name": "ipython",
    "version": 3
   },
   "file_extension": ".py",
   "mimetype": "text/x-python",
   "name": "python",
   "nbconvert_exporter": "python",
   "pygments_lexer": "ipython3",
   "version": "3.6.10"
  }
 },
 "nbformat": 4,
 "nbformat_minor": 4
}
