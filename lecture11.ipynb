{
 "cells": [
  {
   "cell_type": "markdown",
   "metadata": {},
   "source": [
    "# Chapter 11: Matrix Spaces; Rank 1; Small World Graphs"
   ]
  },
  {
   "cell_type": "markdown",
   "metadata": {},
   "source": [
    "Reference    \n",
    "Lecture video: https://youtu.be/2IdtqGM6KWU        \n",
    "Chinese note: https://nbviewer.jupyter.org/github/zlotus/notes-linear-algebra/blob/master/chapter11.ipynb  "
   ]
  },
  {
   "cell_type": "markdown",
   "metadata": {},
   "source": [
    "## Matrix space"
   ]
  },
  {
   "cell_type": "markdown",
   "metadata": {},
   "source": [
    "For $3\\times 3$ matrix, we denote the matrix space as $M$. A basis of the matrix space $M$ is:\n",
    "\n",
    "$$\n",
    "\\begin{array}{l}\n",
    "\\left[\\begin{array}{lll}\n",
    "1 & 0 & 0 \\\\\n",
    "0 & 0 & 0 \\\\\n",
    "0 & 0 & 0\n",
    "\\end{array}\\right]\\left[\\begin{array}{lll}\n",
    "0 & 1 & 0 \\\\\n",
    "0 & 0 & 0 \\\\\n",
    "0 & 0 & 0\n",
    "\\end{array}\\right]\n",
    "\\left[\\begin{array}{lll}\n",
    "0 & 0 & 0 \\\\\n",
    "1 & 0 & 0 \\\\\n",
    "0 & 0 & 0\n",
    "\\end{array}\\right]\\\\\n",
    "\\left[\\begin{array}{lll}\n",
    "0 & 0 & 1 \\\\\n",
    "0 & 0 & 0 \\\\\n",
    "0 & 0 & 0\n",
    "\\end{array}\\right] \n",
    "\\left[\\begin{array}{lll}\n",
    "0 & 0 & 0 \\\\\n",
    "0 & 0 & 0 \\\\\n",
    "1 & 0 & 0\n",
    "\\end{array}\\right] \n",
    "\\left[\\begin{array}{lll}\n",
    "0 & 0 & 0 \\\\\n",
    "0 & 1 & 0 \\\\\n",
    "0 & 0 & 0\n",
    "\\end{array}\\right]\\\\\n",
    "\\left[\\begin{array}{lll}\n",
    "0 & 0 & 0 \\\\\n",
    "0 & 0 & 0 \\\\\n",
    "0 & 1 & 0\n",
    "\\end{array}\\right]\n",
    "\\left[\\begin{array}{lll}\n",
    "0 & 0 & 0 \\\\\n",
    "0 & 0 & 1 \\\\\n",
    "0 & 0 & 0\n",
    "\\end{array}\\right]\n",
    "\\left[\\begin{array}{lll}\n",
    "0 & 0 & 0 \\\\\n",
    "0 & 0 & 0 \\\\\n",
    "0 & 0 & 1\n",
    "\\end{array}\\right]\n",
    "\\end{array}\n",
    "$$\n",
    "\n",
    "Thus, $\\mathrm{dim}M = 9$. \n",
    "\n",
    "For $3\\times 3$ symmetric matrix space, $\\mathrm{dim}S = 6$. \n",
    "\n",
    "For $3\\times 3$ upper triangular matrix space, $\\mathrm{dim}U = 6$. \n",
    "\n",
    "For $3\\times 3$ diagonal matrix space, $\\mathrm{dim}D = 3$. \n",
    "\n",
    "Intersection: $S \\cap U=D$, $\\mathrm{dim}(S\\cap U) = 3$. \n",
    "\n",
    "Sum(not union): $S + U=M, \\operatorname{dim}(S + U)=9$. \n",
    "\n",
    "Therefore,we have:\n",
    "\n",
    "$$\\mathrm{dim}S+ \\mathrm{dim}U = 12 = \\operatorname{dim}(S + U) + \\mathrm{dim}(S\\cap U) $$\n",
    "\n",
    "Another example using differential equations:\n",
    "\n",
    "$\\frac{d^{2} y}{d x^{2}}+y=0$, that's  $y^{\\prime \\prime}+y=0$\n",
    "\n",
    "The solution of the equation could be: \n",
    "\n",
    " $$y=\\cos x, \\quad y=\\sin x, \\quad y=e^{i x} = \\cos x+i \\sin x, \\quad y=e^{-i x}=\\cos x-i \\sin x$$\n",
    " \n",
    " All the solutions can be represented as: \n",
    " \n",
    " $$y=c_{1} \\cos x+c_{2} \\sin x$$\n",
    " \n",
    " Therefore, a basis of the solution space can be $\\cos x, \\sin x$, the dimension of the solution space is $2$. Similarly, $e^{i x}, e^{-i x}$ can also be a basis of the solution space. We can see that calculating the special solution of differential equation is just to find the basis of the solution space."
   ]
  },
  {
   "cell_type": "markdown",
   "metadata": {},
   "source": [
    "## Rank 1 matrices"
   ]
  },
  {
   "cell_type": "markdown",
   "metadata": {},
   "source": [
    "For a $2\\times 3$ matrix $ A=\\left[\\begin{array}{ccc}1 & 4 & 5 \\\\ 2 & 8 & 10\\end{array}\\right]=\\left[\\begin{array}{l}1 \\\\ 2\\end{array}\\right]\\left[\\begin{array}{lll}1 & 4 & 5\\end{array}\\right]$, its $\\operatorname{dim}C(A) = \\operatorname{rank}(A)=1 = \\operatorname{dim}C(A^{\\top})$. \n",
    "\n",
    "In fact, for any rank-1 matrix $A$, it can be written as:\n",
    "$$A = UV^{\\top}$$\n",
    "Here, the $U, V$ are column vectors. \n",
    "\n",
    "The rank-1 matrices are like \"building blocks\", for a $5\\times 17$ matrix with rank 4, we can obtain it through combination of 4 rank-1 matrices. \n",
    "\n",
    "For $5\\times 17$ matrices $M$, the rank-4 matrix set is not a subspace, because usually the sum of two rank-4 matrix produces matrix with larger rank. \n",
    "\n",
    "Asuume a vector $v = \\left[\\begin{array}{l}\n",
    "v_{1} \\\\\n",
    "v_{2} \\\\\n",
    "v_{3} \\\\\n",
    "v_{4}\n",
    "\\end{array}\\right] \\in \\mathbb{R}^4$, for all the $v$ who satisfies $v_1+v_2+v_3+v_4=0$, they form a vector subspace $S$ of $\\mathbb{R}^4$. \n",
    "\n",
    "Because when we do scalar multipling operation or sum operation, the result still satisfies $v_1+v_2+v_3+v_4=0$. \n",
    "\n",
    "How to get the dimension of $S$?\n",
    "\n",
    " $v_1+v_2+v_3+v_4=0 \\Leftrightarrow  \\left[\\begin{array}{llll}\n",
    "1 & 1 & 1 & 1\n",
    "\\end{array}\\right]\\left[\\begin{array}{l}\n",
    "v_{1} \\\\\n",
    "v_{2} \\\\\n",
    "v_{3} \\\\\n",
    "v_{4}\n",
    "\\end{array}\\right]=0$\n",
    "\n",
    "This means that $S$ is the null space of $A =\\left[\\begin{array}{llll}\n",
    "1 & 1 & 1 & 1\n",
    "\\end{array}\\right] $, thus $\\operatorname{dimN}(A) = n- \\operatorname{rank}(A)=3=\\operatorname{dim}(S)$\n",
    "\n",
    "What's the four fundamental subspace of the above $A$?\n",
    "\n",
    "* row space: $\\operatorname{dimC}(A^{\\top}) = 1$, a basis is $\\left[\\begin{array}{llll}\n",
    "1 & 1 & 1 & 1\n",
    "\\end{array}\\right]$\n",
    "* null space: $\\operatorname{dimN}(A) = 3$, a basis is $\\left[\\begin{array}{c}-1 \\\\ 1 \\\\ 0 \\\\ 0\\end{array}\\right]\\left[\\begin{array}{c}-1 \\\\ 0 \\\\ 1 \\\\ 0\\end{array}\\right]\\left[\\begin{array}{c}-1 \\\\ 0 \\\\ 0 \\\\ 1\\end{array}\\right]$, which is the special solution of $Ax = 0$\n",
    "\n",
    "* column space:  $\\operatorname{dimC}(A) = 1$, a basis is $[1]$, the column space is the whole $\\mathbb{R}^1$\n",
    "* left null space: $\\operatorname{dimN}(A^{\\top}) = 0$, because $A^{\\top}x = 0$ has only one element 0 vector. Therefore, its left null space is $\\{0\\}$\n",
    "\n",
    "Overall:\n",
    "\n",
    "$\\operatorname{dimC}\\left(A^{T}\\right)+\\operatorname{dimN}(A)=4=n, \\operatorname{dimC} (A)+\\operatorname{dimN} \\left(A^{T}\\right)=1=m$"
   ]
  },
  {
   "cell_type": "markdown",
   "metadata": {},
   "source": [
    "## Small world graph"
   ]
  },
  {
   "cell_type": "markdown",
   "metadata": {},
   "source": [
    "Graph is composed of nodes and edges: $\\mathcal{G} = (N, E)$. \n",
    "\n",
    "Consider we have a graph whose node is each person in the world and edge means that the two persons are friends. Then usually, we can reach any node within 6 steps from some node. That's why we call a small world lol. "
   ]
  }
 ],
 "metadata": {
  "kernelspec": {
   "display_name": "Python 3",
   "language": "python",
   "name": "python3"
  },
  "language_info": {
   "codemirror_mode": {
    "name": "ipython",
    "version": 3
   },
   "file_extension": ".py",
   "mimetype": "text/x-python",
   "name": "python",
   "nbconvert_exporter": "python",
   "pygments_lexer": "ipython3",
   "version": "3.6.10"
  }
 },
 "nbformat": 4,
 "nbformat_minor": 4
}
