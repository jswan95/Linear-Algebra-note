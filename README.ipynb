{
 "cells": [
  {
   "cell_type": "markdown",
   "metadata": {},
   "source": [
    "# Linear-Algebra-note\n",
    "\n",
    "## Author Information\n",
    "> Name: Jiansong Wan   \n",
    "> Email: familyboy41@gmail.com\n",
    "\n",
    "\n",
    "Note on MIT Linear Algebra course, displayed by ` jupyter notebook (ipython notebook) `. \n",
    "\n",
    "` Github ` is slow to load ` .ipynb ` file, highly recommend you to view this project at [NBviwer](http://nbviewer.jupyter.org/github/jswan95/Master/Linear-Algebra-note/blob/main/lecture01.ipynb)\n",
    "\n",
    "----\n",
    "## Lecture List\n",
    "-[Lecture 1. The Geometry of Linear Equations](lecture01.ipynb)   \n",
    "-[Lecture 2. Elimination with Matrices](lecture02.ipynb)  \n",
    "-[Lecture 3. Multiplication and Inverse Matrices](lecture03.ipynb)   \n",
    "-[Lecture 4. Factorization into A = LU](lecture04.ipynb)   \n",
    "-[Lecture 5. Transpose, Permutations, Spaces R^n](lecture05.ipynb)   \n",
    "-[Lecture 6. Column Space and Nullspace](lecture06.ipynb)   \n",
    "-[Lecture 7. Solving Ax = 0: Pivot Variables, Special Solutions](lecture07.ipynb)   \n",
    "-[Lecture 8. Solving Ax = b: Row Reduced Form](lecture08.ipynb)  \n",
    "-[Lecture 9. Independence, Basis, and Dimension](lecture09.ipynb)   \n",
    "-[Lecture 10. The Four Fundamental Subspaces](lecture10.ipynb)   \n",
    "-[Lecture 11. Matrix Spaces; Rank 1; Small World Graphs](lecture11.ipynb)   \n",
    "-[Lecture 12. Graphs, Networks, Incidence Matrices](lecture12.ipynb)   \n",
    "-[Lecture 13. Quiz 1 Review](lecture13.ipynb)   \n",
    "-[Lecture 14. Orthogonal Vectors and Subspaces](lecture14.ipynb)   \n",
    "-[Lecture 15. Projections onto Subspaces](lecture15.ipynb)   \n",
    "-[Lecture 16. Projection Matrices and Least Squares](lecture16.ipynb)   \n",
    "-[Lecture 17. Orthogonal Matrices and Gram-Schmidt](lecture17.ipynb)   \n",
    "-[Lecture 18. Properties of Determinants](lecture18.ipynb)   \n",
    "-[Lecture 19. Determinant Formulas and Cofactors](lecture19.ipynb)   \n",
    "-[Lecture 20. Cramer's Rule, Inverse Matrix, and Volume](lecture20.ipynb)   \n",
    "-[Lecture 21. Eigenvalues and Eigenvectors](lecture21.ipynb)   \n",
    "-[Lecture 22. Diagonalization and Powers of A](lecture22.ipynb)   \n",
    "-[Lecture 23. Differential Equations and exp(At)](lecture23.ipynb)   \n",
    "-[Lecture 24. Markov Matrices; Fourier Series](lecture24.ipynb)   \n",
    "-[Lecture 25. Quiz2 Review](lecture25.ipynb)   \n",
    "-[Lecture 26. Symmetric Matrices and Positive Definiteness](lecture26.ipynb)   \n",
    "-[Lecture 27. Complex Matrices; Fast Fourier Transform](lecture27.ipynb)   \n",
    "-[Lecture 28. Positive Definite Matrices and Minima](lecture28.ipynb)   \n",
    "-[Lecture 29. Similar Matrices and Jordan Form](lecture29.ipynb)   \n",
    "-[Lecture 30. Singular Value Decomposition](lecture30.ipynb)   \n",
    "-[Lecture 31. Linear Transformation and Their Matrices](lecture31.ipynb)   \n",
    "-[Lecture 32. Change of Basis; Image Compression](lecture32.ipynb)   \n",
    "-[Lecture 33. Quiz 3 Review](lecture33.ipynb)   \n",
    "-[Lecture 34. Left and Right Inverses; Pseudoinverse](lecture34.ipynb)   \n",
    "-[Lecture 35. Final Course Review](lecture35.ipynb)   \n"
   ]
  }
 ],
 "metadata": {
  "kernelspec": {
   "display_name": "Python 3",
   "language": "python",
   "name": "python3"
  },
  "language_info": {
   "codemirror_mode": {
    "name": "ipython",
    "version": 3
   },
   "file_extension": ".py",
   "mimetype": "text/x-python",
   "name": "python",
   "nbconvert_exporter": "python",
   "pygments_lexer": "ipython3",
   "version": "3.6.10"
  }
 },
 "nbformat": 4,
 "nbformat_minor": 4
}
