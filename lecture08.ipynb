{
 "cells": [
  {
   "cell_type": "markdown",
   "metadata": {},
   "source": [
    "# Lecture 8: Solving Ax = b: Row Reduced Form"
   ]
  },
  {
   "cell_type": "markdown",
   "metadata": {},
   "source": [
    "Reference    \n",
    "Lecture video: https://www.youtube.com/watch?v=9Q1q7s1jTzU&list=PLE7DDD91010BC51F8&index=9      \n",
    "Chinese note: https://nbviewer.jupyter.org/github/zlotus/notes-linear-algebra/blob/master/chapter08.ipynb  "
   ]
  },
  {
   "cell_type": "markdown",
   "metadata": {},
   "source": [
    "Example: $A=\\left[\\begin{matrix} 1 & 2&2&2 \\cr 2 & 4&6&8 \\cr 3 & 6&8&10 \\end{matrix}\\right]$, find the special solution of $Ax=b$. \n",
    "\n",
    "Firstly, we write down the augmented matrix and do elimination: \n",
    "$$\\left[\\begin{array} {c|c}A & b\\end{array}\\right] = \\left[\\begin{array}{c c c c|c} 1 & 2&2&2 &b_1\\cr 2 & 4&6&8 &b_2\\cr 3 & 6&8&10&b_3 \\end{array}\\right] \\xrightarrow{elimination} \\left[\\begin{array}{c c c c|c} 1 & 2&2&2 &b_1\\cr 0 & 0&2&4 &b_2 - 2b_1\\cr 0 & 0&0&0&b_3 -b_2-b_1 \\end{array}\\right] $$\n",
    "\n",
    "Obviously, to ensure there exists solution, $b_3 -b_2 - b_1 = 0$\n",
    "\n",
    "What requirement $b$ should satisfy so that $Ax=b$ has solutions (solvability condition on b)?: If and only if $b$ is in the column space of $A$. Another way to unerstand is that if certain linear combination of $A$'s rows produces 0, then the same operation on $b$ should also produce 0. \n",
    "\n",
    "Suppose $b = \\left[\\begin{matrix} 1 \\cr 5 \\cr 6\\end{matrix}\\right]$, by letting all the free variables $(x_2, x_4)$ be zero, we have:\n",
    "\n",
    "$$\\begin{cases}x_1+2x_3=b_1=1\\\\ 2x_3=b_2-2b_1=3\\end{cases} => \\begin{cases}x_1 = -2 \\\\ x_3 = \\frac{3}{2} \\end{cases}$$\n",
    "\n",
    "Therefore one of the special solution of $Ax=b$ is $x_p= \\left[\\begin{matrix} -2 \\cr 0 \\cr \\frac{3}{2}\\cr 0\\end{matrix}\\right]$\n",
    "\n",
    "If$Ax_p = b, Ax_n=0$, then $A(x_p+x_n)=b$. That means that the solution set of $Ax=b$ is the sum of special solution and nullspace of matrix $A$. \n",
    "\n",
    "\n",
    "Therefore, the solution set of $Ax = b$ is $$x_{complete} = \\left[\\begin{matrix} -2 \\cr 0 \\cr \\frac{3}{2}\\cr 0\\end{matrix}\\right] + c_1 \\left[\\begin{matrix} -2 \\cr 1 \\cr 0 \\cr 0 \\end{matrix} \\right] + c_2 \\left[\\begin{matrix} 2 \\cr 0 \\cr -2 \\cr 1 \\end{matrix} \\right]$$\n"
   ]
  },
  {
   "cell_type": "markdown",
   "metadata": {},
   "source": [
    "Next we talk about the solution of $Ax=b$ by considering the rank of $A$. \n",
    "\n",
    "If $A$'s dimension is $m\\times n$, then the rank of $A: r\\le min(m, n)$. \n",
    "\n",
    "Full column rank $(r=n)$ case: $A=\\left[\\begin{matrix}1 & 3 \\cr 2 & 1\\cr 6 & 1 \\cr 5 & 1\\end{matrix}\\right]$, $rank(A) = 2$. To ensure $Ax=b, b\\neq0$ has nonzero solution, then $b$ must be in the column space of $A$, and the nullspace of $A$ must only contain 0 vector. \n",
    "\n",
    "Full row rank $(r=m)$ case: $A=\\left[\\begin{matrix}1 & 2 & 6 & 5 \\cr 3 & 1 &1 & 1\\end{matrix}\\right]$, $rank(A) = 2$. In this case, there is always a solution for any $b\\in R^m$ because the column space of $A$ is $R^m$. The number of free variables is $n-r$. \n",
    "\n",
    "Full rank $r=m=n$ case: $A=\\left[\\begin{matrix}1 & 2 \\cr 3 & 4 \\end{matrix}\\right]$, then $A$ can be reduced to $R=I$, there is only one solution and the nullspace of $A$ only contains 0 vector. \n",
    "\n",
    "Summary: \n",
    "\n",
    "$$ \\begin{array}{c|c|c|c} r=m=n & r=n<m & r=m<n & r<m, r<n \\cr R=I & R =\\left[\\begin{matrix} I \\cr 0\\end{matrix}\\right] &  R =\\left[\\begin{matrix} I & F\\end{matrix}\\right] &  R =\\left[\\begin{matrix} I &F \\cr 0 & 0\\end{matrix}\\right] \\cr \\text{1 solution} & \\text{0 or 1 solution} & \\text{ $\\infty$ solution} & \\text{0 or $\\infty$ solution} \\end{array}$$\n"
   ]
  }
 ],
 "metadata": {
  "kernelspec": {
   "display_name": "Python 3",
   "language": "python",
   "name": "python3"
  },
  "language_info": {
   "codemirror_mode": {
    "name": "ipython",
    "version": 3
   },
   "file_extension": ".py",
   "mimetype": "text/x-python",
   "name": "python",
   "nbconvert_exporter": "python",
   "pygments_lexer": "ipython3",
   "version": "3.6.10"
  }
 },
 "nbformat": 4,
 "nbformat_minor": 4
}
