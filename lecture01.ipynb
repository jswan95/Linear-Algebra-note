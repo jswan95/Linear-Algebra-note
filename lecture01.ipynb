{
 "cells": [
  {
   "cell_type": "markdown",
   "metadata": {},
   "source": [
    "Reference\n",
    "Lecture video: https://www.youtube.com/watch?v=J7DzL2_Na80&list=PL49CF3715CB9EF31D\n",
    "Chinese note: https://nbviewer.jupyter.org/github/zlotus/notes-linear-algebra/blob/master/chapter01.ipynb"
   ]
  },
  {
   "cell_type": "markdown",
   "metadata": {},
   "source": [
    "# Lecture 1: The Geometry of Lienar Equations"
   ]
  },
  {
   "cell_type": "markdown",
   "metadata": {},
   "source": [
    "The following example is to understand the **row picture** and **column picture** of linear equations.  \n",
    "\n",
    "Suppose we have equations: \n",
    "\n",
    "$$\\begin{cases}2x&-y&=0\\\\ -x& +2y&=3\\end{cases}$$\n",
    "\n",
    "The corresponding matrix form is: \n",
    "\n",
    "$$\\left[\\begin{matrix} 2 & -1 \\cr -1 & 2\\end{matrix}\\right] \\left[\\begin{matrix} x \\cr y \\end{matrix}\\right] = \\left[\\begin{matrix} 0 \\cr 3 \\end{matrix}\\right]$$\n",
    "\n",
    "Usually, we call the first matrix **cofficient matrix**, denoted as $A$; the second matrix **vector**, denoted as $x$; the third matrix **vector** denoted as $b$. \n",
    "\n",
    "Let's first see the row picture.   \n",
    "We can draw two lines in a Cartesian system to represent the above linear equations. The intersection is the solution. "
   ]
  },
  {
   "cell_type": "code",
   "execution_count": 11,
   "metadata": {},
   "outputs": [
    {
     "data": {
      "image/png": "[encoded data removed]",
      "text/plain": [
       "<Figure size 432x288 with 1 Axes>"
      ]
     },
     "metadata": {
      "needs_background": "light"
     },
     "output_type": "display_data"
    }
   ],
   "source": [
    "%matplotlib inline\n",
    "import matplotlib.pyplot as plt\n",
    "import numpy as np\n",
    "import pandas as pd\n",
    "import seaborn as sns \n",
    "\n",
    "x = [-2, 2, -2, 2]\n",
    "y = [-4, 4, 0.5, 2.5]\n",
    "\n",
    "fig = plt.figure()\n",
    "plt.axhline(y=0, c='black')\n",
    "plt.axvline(x=0,c='black')\n",
    "\n",
    "plt.plot(x[:2], y[:2], x[2:], y[2:])\n",
    "plt.grid()\n",
    "\n",
    "plt.draw()"
   ]
  },
  {
   "cell_type": "code",
   "execution_count": 12,
   "metadata": {},
   "outputs": [],
   "source": [
    "plt.close(fig)"
   ]
  },
  {
   "cell_type": "markdown",
   "metadata": {},
   "source": [
    "Next we look into the column picture. The linear equations can be rewritten as:\n",
    "\n",
    "$$x\\left[\\begin{matrix} 2 \\cr -1 \\end{matrix}\\right] + y\\left[\\begin{matrix} -1 \\cr 2 \\end{matrix}\\right] = \\left[\\begin{matrix} 0 \\cr 3 \\end{matrix}\\right]$$\n",
    "\n",
    "To make it true, x should be 1 and y should be 2.  \n",
    "This means that one $\\left[\\begin{matrix} 2 \\cr -1 \\end{matrix}\\right] (col_1) $ add two $\\left[\\begin{matrix} -1 \\cr 2 \\end{matrix}\\right]$ producing $\\left[\\begin{matrix} 0 \\cr 3 \\end{matrix}\\right] (col_2)$.   \n",
    "\n",
    "The following figure shows the column picture.  \n",
    "The gree vector $\\left[\\begin{matrix} 2 \\cr -1 \\end{matrix}\\right]$ and the blue vector $2 \\times \\left[\\begin{matrix} -1 \\cr 2 \\end{matrix}\\right]$ sum into the red vector $\\left[\\begin{matrix} 0 \\cr 3 \\end{matrix}\\right]$. "
   ]
  },
  {
   "cell_type": "code",
   "execution_count": 16,
   "metadata": {},
   "outputs": [
    {
     "data": {
      "image/png": "[encoded data removed]",
      "text/plain": [
       "<Figure size 432x288 with 1 Axes>"
      ]
     },
     "metadata": {
      "needs_background": "light"
     },
     "output_type": "display_data"
    }
   ],
   "source": [
    "from functools import partial\n",
    "\n",
    "fig = plt.figure()\n",
    "plt.axhline(y=0, c='black')\n",
    "plt.axvline(x=0, c='black')\n",
    "ax = plt.gca()\n",
    "ax.set_xlim(-2.5, 2.5)\n",
    "ax.set_ylim(-3, 4)\n",
    "\n",
    "arrow_vector = partial(plt.arrow, width=0.02, head_width=0.1, head_length=0.2, length_includes_head=True)\n",
    "\n",
    "arrow_vector(0, 0, 2, -1, color='g')\n",
    "arrow_vector(0, 0, -1, 2, color='c')\n",
    "arrow_vector(2, -1, -2, 4, color='b')\n",
    "arrow_vector(0, 0, 0, 3, width=0.05, color='r')\n",
    "\n",
    "plt.grid()\n",
    "plt.draw()"
   ]
  },
  {
   "cell_type": "markdown",
   "metadata": {},
   "source": [
    "We have seen that certain linear combination of $col_1$ and $col_2$ produced vector $b$. One interesting question is that what will all the linear combinations of $col_1$ and $col_2$ produce?  The answer is: the whole 2 dimension space.   "
   ]
  },
  {
   "cell_type": "markdown",
   "metadata": {},
   "source": [
    "The second example extends to three equations with three variables:\n",
    "\n",
    "$$\\begin{cases}2x&-y&=0\\\\ -x& +2y& -z&=-1\\\\ -3y&+4z&=4\\end{cases}$$\n",
    "\n",
    "The matrix form is:\n",
    "\n",
    "$$\\left[\\begin{matrix}2 & -1 & 0 \\cr -1 & 2 & -3 \\cr 0 &-1 &4\\end{matrix}\\right] \\left[\\begin{matrix} x \\cr y \\cr z\\end{matrix}\\right] = \\left[\\begin{matrix} 0 \\cr -1 \\cr 4 \\end{matrix}\\right]$$\n",
    "\n",
    "Coefficient matrix $A = \\left[\\begin{matrix}2 & -1 & 0 \\cr -1 & 2 & -3 \\cr 0 &-1 &4\\end{matrix}\\right]$, vector $b = \\left[\\begin{matrix} 0 \\cr -1 \\cr 4 \\end{matrix}\\right]$.   \n",
    "\n",
    "Similarly, we solve the problem by looking at the column picture:\n",
    "\n",
    "$$x\\left[\\begin{matrix} 2 \\cr -1 \\cr 0\\end{matrix}\\right] + y\\left[\\begin{matrix} -1 \\cr 2 \\cr -3\\end{matrix}\\right] + z\\left[\\begin{matrix} 0 \\cr -1 \\cr 4\\end{matrix}\\right]= \\left[\\begin{matrix} 0 \\cr -1 \\cr 4\\end{matrix}\\right]$$\n",
    "\n",
    "Obviously, the solution is $x=0, y=0, z=1$.   \n",
    "\n",
    "If $b = \\left[\\begin{matrix} 1 \\cr 1 \\cr -3 \\end{matrix}\\right]$, the solution becomes  $x=1, y=1, z=0$.\n",
    "\n",
    "It is not always easy for us to calculate the solution, therefore, [lecture 2](https://nbviewer.jupyter.org/github/zlotus/notes-linear-algebra/blob/master/chapter01.ipynb) will introduce matrix elimination to help us find the solution easily. "
   ]
  },
  {
   "cell_type": "markdown",
   "metadata": {},
   "source": [
    "The last point this lecture is can $Ax=b$ has solutions?   \n",
    "\n",
    "The question can be reinterpreted as: can the linear combination of column vectors produce the whole $3$ dimensional space? For the above example, the answer is yes because the coefficient matrix $A$ in the above example is what we like(nonsingular). There indeed exist some matrices that can not give a positive answer. Then in which situation, the linear combinations of the three column vectors cna not produce $b$?  \n",
    "\n",
    "If the three column vectors are in the same plane, for example, $col_3 = col_1 + col_2$, then all their combinations will always in a 2 dimensional plane. If $b$ is also in the plane, the linear equations have solution. Otherwise, we can never find a combination of the column vectors that produce$b$. This will be covered more detailedly in later lectures. \n",
    "\n",
    "When the question is extended into 9 dimensional space, 9 variables, 9 equations, we can not construct a figure. But still, the reasoning process is similar to the above. If the column vectors are independent with each other, then the linear combinations of the column vectors can produce any vector of the 9 dimensional space. Then $Ax=b$ always has solutions. Otherwise, there will be some $b$ that can not be reached. "
   ]
  },
  {
   "cell_type": "markdown",
   "metadata": {},
   "source": [
    "How to calculate $Ax=b$? For example, $A=\\left[\\begin{matrix} 2 & 1 \\cr 5 & 3\\end{matrix}\\right], x= \\left[\\begin{matrix} 1 \\cr 2 \\end{matrix}\\right]$, how to calculate $Ax$?\n",
    "\n",
    "Two approaches are talked. \n",
    "\n",
    "The first is using combination of column vectors of $A$: $\\left[\\begin{matrix} 2 & 1 \\cr 5 & 3\\end{matrix}\\right]\\left[\\begin{matrix} 1 \\cr 2 \\end{matrix}\\right] = 1 \\left[\\begin{matrix} 2 \\cr 1 \\end{matrix}\\right] + 2 \\left[\\begin{matrix} 5 \\cr 3 \\end{matrix}\\right] = \\left[\\begin{matrix} 12 \\cr 7 \\end{matrix}\\right]$. \n",
    "\n",
    "The second is using inner product of vectors: $\\left[\\begin{matrix} 2 & 5 \\end{matrix}\\right] \\cdot \\left[\\begin{matrix} 1 \\cr 2 \\end{matrix}\\right]^T = 12, \\left[\\begin{matrix} 1 & 3 \\end{matrix}\\right] \\cdot \\left[\\begin{matrix} 1 \\cr 2 \\end{matrix}\\right]^T = 7$\n",
    "\n",
    "The professor advised to use the first one: taking $Ax$ as the linear combination of $A$'s column vectors. "
   ]
  }
 ],
 "metadata": {
  "kernelspec": {
   "display_name": "Python 3",
   "language": "python",
   "name": "python3"
  },
  "language_info": {
   "codemirror_mode": {
    "name": "ipython",
    "version": 3
   },
   "file_extension": ".py",
   "mimetype": "text/x-python",
   "name": "python",
   "nbconvert_exporter": "python",
   "pygments_lexer": "ipython3",
   "version": "3.6.10"
  }
 },
 "nbformat": 4,
 "nbformat_minor": 4
}
