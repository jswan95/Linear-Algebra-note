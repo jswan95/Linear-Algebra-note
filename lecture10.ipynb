{
 "cells": [
  {
   "cell_type": "markdown",
   "metadata": {},
   "source": [
    "# Lecture 10: The Four Fundamental Subspaces"
   ]
  },
  {
   "cell_type": "markdown",
   "metadata": {},
   "source": [
    "Reference    \n",
    "Lecture video: https://www.youtube.com/watch?v=nHlE7EgJFds&list=PLE7DDD91010BC51F8&index=11        \n",
    "Chinese note: https://nbviewer.jupyter.org/github/zlotus/notes-linear-algebra/blob/master/chapter10.ipynb  "
   ]
  },
  {
   "cell_type": "markdown",
   "metadata": {},
   "source": [
    "For a $m\\times n$ matrix $A$, $\\mathrm{rank}(A) = r$, the four fundamental subspaces are:\n",
    "\n",
    "* column space: $C(A)$, subspace of $\\mathbb{R}^m$, $\\mathrm{dimC(A)} = r$, a basis is the pivot columns\n",
    "* null space: $N(A)$, subspace of $\\mathbb{R}^n$, $\\mathrm{dimN(A)} = n-r$, a basis will be the special solutions \n",
    "* row space: $C(A^{\\top})$, subspace of $\\mathbb{R}^n$,  $\\mathrm{dimC(A^{\\top})} = r$, see Example1 for the basis!\n",
    "* left null space: $N(A^{\\top})$, subspace of $\\mathbb{R}^m$, $\\mathrm{dimN(A^{\\top})} = m-r$, see Example2 for the basis!\n",
    "\n",
    "Example1: \n",
    "\n",
    "For matrix $A=\\left[\\begin{array}{llll}1 & 2 & 3 & 1 \\\\ 1 & 1 & 2 & 1 \\\\ 1 & 2 & 3 & 1\\end{array}\\right] \\xrightarrow{elimination} \\left[\\begin{array}{llll}1 & 0 & 1 & 1 \\\\ 0 & 1 & 1 & 0 \\\\ 0 & 0 & 0 & 0\\end{array}\\right]=R$, the column space of $A$ has been changed $C(R) \\neq C(A)$, but the row space does not change （because row operation does not change row space）. We can see the the first two rows of $R$ is a basis of the row space. Therefore, a basis of the row space of $A$ is the first $r$ row vectors of $R$ ( reduced row echelon form of $A$)\n",
    "\n",
    "Example2:\n",
    "\n",
    "$A^{\\top}y = 0 \\rightarrow (A^{\\top}y)^{\\top} = 0^{\\top} \\rightarrow y^{\\top}A=0^{\\top}=0$, that's why we call $y$ as the left null space of $A$. \n",
    "\n",
    "By using Gauss-Jordan elimination method, we can change the augmented matrix $\\left[\\begin{array}{l|l}A_{m \\times n} & I_{m \\times m}\\end{array}\\right]$ into $\\left[\\begin{array}{l|l}R_{m \\times n} & E_{m \\times m}\\end{array}\\right]$, the matrix $E$ records all the row operation. \n",
    "\n",
    "$$\n",
    "\\left[\\begin{array}{l|l}\n",
    "A_{m \\times n} & I_{m \\times m}\n",
    "\\end{array}\\right]=\\left[\\begin{array}{llll|lll}\n",
    "1 & 2 & 3 & 1 & 1 & 0 & 0 \\\\\n",
    "1 & 1 & 2 & 1 & 0 & 1 & 0 \\\\\n",
    "1 & 2 & 3 & 1 & 0 & 0 & 1\n",
    "\\end{array}\\right] \\xrightarrow{ elimination}\\left[\\begin{array}{cccc|ccc}\n",
    "1 & 0 & 1 & 1 & -1 & 2 & 0 \\\\\n",
    "0 & 1 & 1 & 0 & 1 & -1 & 0 \\\\\n",
    "0 & 0 & 0 & 0 & -1 & 0 & 1\n",
    "\\end{array}\\right]=\\left[\\begin{array}{ll}\n",
    "R_{m \\times n} & E_{m \\times m}\n",
    "\\end{array}\\right]\n",
    "$$\n",
    "\n",
    "$$\n",
    "E A=\\left[\\begin{array}{ccc}\n",
    "-1 & 2 & 0 \\\\\n",
    "1 & -1 & 0 \\\\\n",
    "-1 & 0 & 1\n",
    "\\end{array}\\right] \\cdot\\left[\\begin{array}{llll}\n",
    "1 & 2 & 3 & 1 \\\\\n",
    "1 & 1 & 2 & 1 \\\\\n",
    "1 & 2 & 3 & 1\n",
    "\\end{array}\\right]=\\left[\\begin{array}{llll}\n",
    "1 & 0 & 1 & 1 \\\\\n",
    "0 & 1 & 1 & 0 \\\\\n",
    "0 & 0 & 0 & 0\n",
    "\\end{array}\\right]=R\n",
    "$$\n",
    "\n",
    "We can see that the last row of $E$ multiply $A$ produces the last row of $R$, which is 0 vector. It satisfies that: $y^{\\top} A=0$. Therefore, in this example, the last row of $E$ can be a basis of the left null space of $A$. "
   ]
  },
  {
   "cell_type": "markdown",
   "metadata": {},
   "source": [
    "**Matrix space**\n",
    "\n",
    "Similar to vector space, we can obtain a matrix space by doing summing and scalar multiplying operation to some matrices. \n",
    "\n",
    "For example, we denote the matrix space spanned by $3\\times 3$ as $M$, the $3\\times 3$ upper triangular matrix, symmetric matrix and diagonal matrix are subspace of $M$. \n",
    "\n",
    "If we have diagonal matrix:\n",
    "\n",
    "$$\n",
    "\\left[\\begin{array}{lll}\n",
    "1 & 0 & 0 \\\\\n",
    "0 & 0 & 0 \\\\\n",
    "0 & 0 & 0\n",
    "\\end{array}\\right] \\quad\\left[\\begin{array}{lll}\n",
    "1 & 0 & 0 \\\\\n",
    "0 & 3 & 0 \\\\\n",
    "0 & 0 & 0\n",
    "\\end{array}\\right] \\quad\\left[\\begin{array}{lll}\n",
    "0 & 0 & 0 \\\\\n",
    "0 & 0 & 0 \\\\\n",
    "0 & 0 & 7\n",
    "\\end{array}\\right]\n",
    "$$\n",
    "\n",
    "we can get all the $3\\times 3$ diagonal matrix through the above three matrix. Therefore, they span the $3\\times 3$ diagonal matrix space, and they are a basis of the $3\\times 3$ diagonal matrix space"
   ]
  }
 ],
 "metadata": {
  "kernelspec": {
   "display_name": "Python 3",
   "language": "python",
   "name": "python3"
  },
  "language_info": {
   "codemirror_mode": {
    "name": "ipython",
    "version": 3
   },
   "file_extension": ".py",
   "mimetype": "text/x-python",
   "name": "python",
   "nbconvert_exporter": "python",
   "pygments_lexer": "ipython3",
   "version": "3.6.10"
  }
 },
 "nbformat": 4,
 "nbformat_minor": 4
}
