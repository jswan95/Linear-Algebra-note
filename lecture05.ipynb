{
 "cells": [
  {
   "cell_type": "markdown",
   "metadata": {},
   "source": [
    "# Lecture 5: Transpose, Permutations, Spaces $R^n$"
   ]
  },
  {
   "cell_type": "markdown",
   "metadata": {},
   "source": [
    "Reference  \n",
    "Lecture video: https://www.youtube.com/watch?v=JibVXBElKL0&list=PLE7DDD91010BC51F8&index=6   \n",
    "Chinese note: https://nbviewer.jupyter.org/github/zlotus/notes-linear-algebra/blob/master/chapter05.ipynb   "
   ]
  },
  {
   "cell_type": "markdown",
   "metadata": {},
   "source": [
    "## Permutation Matrix "
   ]
  },
  {
   "cell_type": "markdown",
   "metadata": {},
   "source": [
    "What we did in last lecture is $A= LU$. There is one assumption that no row changes in the process. But there indeed exists the case that the pivot position may be zero, then we need to change the row to make sure that zero will not appear in the pivot position. The function of doing row exchanges is done by **permutation matrix**. \n",
    "\n",
    "For any invertible matrix $A$, we have:\n",
    "\n",
    "$$PA=LU$$\n",
    "\n",
    "$P$ is the permutation matrix. \n",
    "\n",
    "$A=LU$ is a special case of $PA=LU$ when $P=I$. \n",
    "\n",
    "For any $P$, $P^{T}P = I$, that is to say $P^{T}=P^{-1}$\n",
    "\n",
    "Here gives an example: $\\left[\\begin{matrix}0&0&1 \\cr 1&0&0 \\cr 0 & 1&0\\end{matrix}\\right] \\left[\\begin{matrix}0&1&0 \\cr 0&0&1 \\cr 1 & 0&0\\end{matrix}\\right]= I$"
   ]
  },
  {
   "cell_type": "markdown",
   "metadata": {},
   "source": [
    "## Transpose Matrix"
   ]
  },
  {
   "cell_type": "markdown",
   "metadata": {},
   "source": [
    "$(A^T)_{ij} = A_{ji}$. This indicates that by transposing, the rows of $A^{T}$ are actually the columns of $A$, the columns of $A^{T}$ are actually the rows of $A$"
   ]
  },
  {
   "cell_type": "markdown",
   "metadata": {},
   "source": [
    "## Symmetric Matrix"
   ]
  },
  {
   "cell_type": "markdown",
   "metadata": {},
   "source": [
    "If $A^T = A$, then $A$ is **symmetric matrix**.  Symmetrix matrix must be square ! matrix. \n",
    "\n",
    "For any matrix R, $R^TR$ is symmetric matrix. \n",
    "\n",
    "Proof: \n",
    "$$(R^TR)^T = R^TR^{TT}=R^{T}R$$"
   ]
  },
  {
   "cell_type": "markdown",
   "metadata": {},
   "source": [
    "## Vector Space"
   ]
  },
  {
   "cell_type": "markdown",
   "metadata": {},
   "source": [
    "**Vector space**: a collection of vectors where any scaling of the vectors and the linear combination of the vectors are also in the it, such as $R^2, R^3...$. In other words, vector space should be closed under addition and scalar multiplcation.\n",
    "\n",
    "All the vector space must include origins. Why?  \n",
    "The vector scaled by 0 ,which gives 0 vector, must be in the vector space. "
   ]
  }
 ],
 "metadata": {
  "kernelspec": {
   "display_name": "Python 3",
   "language": "python",
   "name": "python3"
  },
  "language_info": {
   "codemirror_mode": {
    "name": "ipython",
    "version": 3
   },
   "file_extension": ".py",
   "mimetype": "text/x-python",
   "name": "python",
   "nbconvert_exporter": "python",
   "pygments_lexer": "ipython3",
   "version": "3.6.10"
  }
 },
 "nbformat": 4,
 "nbformat_minor": 4
}
