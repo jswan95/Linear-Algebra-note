{
 "cells": [
  {
   "cell_type": "markdown",
   "metadata": {},
   "source": [
    "# Lecture 6: Column Space and Nullspace"
   ]
  },
  {
   "cell_type": "markdown",
   "metadata": {},
   "source": [
    "Reference    \n",
    "Lecture video: https://www.youtube.com/watch?v=8o5Cmfpeo6g&list=PLE7DDD91010BC51F8&index=7    \n",
    "Chinese note: https://nbviewer.jupyter.org/github/zlotus/notes-linear-algebra/blob/master/chapter06.ipynb    "
   ]
  },
  {
   "cell_type": "markdown",
   "metadata": {},
   "source": [
    "**Subspace**: they are sets contained in the original vector space with the property that when we perform vector space operations on elements within this subspace, we will never leave it, e.g., $R^2$ is a subspace of $R^3$ \n",
    "\n",
    "For subspace $S$ and $T$, their intersection $S\\cap T$ is also subspace. \n",
    "\n",
    "For $m\\times n$ matrix $A$, $n\\times 1$ matrix $x$, $m \\times 1$ matrix b, then $Ax=b$:\n",
    "\n",
    "$$\\left[\\begin{matrix} a_{11} & a_{12} & \\cdots & a_{1(n-1)} & a_{1n} \\cr  a_{21} & a_{22} & \\cdots & a_{2(n-1)} & a_{2n} \\cr  \\vdots & \\vdots & \\ddots & \\vdots & \\vdots \\cr  a_{m1} & a_{m2} & \\cdots & a_{m(n-1)} & a_{mn}\\end{matrix}\\right] \\left[\\begin{matrix} x_1 \\cr x_2 \\cr \\vdots \\cr x_{n-1} \\cr x_{n} \\end{matrix}\\right] = \\left[\\begin{matrix} b_1 \\cr b_2 \\cr \\vdots  \\cr b_{m} \\end{matrix}\\right]$$\n",
    "\n",
    "The subspace spanned by the column vectors of $A$ is called $A$'s column space (aka image of $A$) \n",
    "\n",
    "If $b$ is in the column space of $A$, this means that $b$ can be obtained by certain linear combination of $A$'s column vectors, then $Ax=b$ has nonzero solution. \n",
    "\n",
    "The subspace spanned by the solutions of $Ax=0$ is called $A$'s null space (aka kernel of $A$) "
   ]
  }
 ],
 "metadata": {
  "kernelspec": {
   "display_name": "Python 3",
   "language": "python",
   "name": "python3"
  },
  "language_info": {
   "codemirror_mode": {
    "name": "ipython",
    "version": 3
   },
   "file_extension": ".py",
   "mimetype": "text/x-python",
   "name": "python",
   "nbconvert_exporter": "python",
   "pygments_lexer": "ipython3",
   "version": "3.6.10"
  }
 },
 "nbformat": 4,
 "nbformat_minor": 4
}
